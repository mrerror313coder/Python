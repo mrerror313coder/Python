{
 "cells": [
  {
   "cell_type": "code",
   "execution_count": 4,
   "id": "227e383a-d63a-44dd-a72b-ecddf5dcccbf",
   "metadata": {},
   "outputs": [
    {
     "name": "stdin",
     "output_type": "stream",
     "text": [
      "Enter a Number :  50\n"
     ]
    },
    {
     "name": "stdout",
     "output_type": "stream",
     "text": [
      "Factorial of 50 is 30414093201713378043612608166064768844377641568960512000000000000 \n",
      "No of trailing zero are : 12 in 50 factorial\n"
     ]
    }
   ],
   "source": [
    "def factorial(n):\n",
    "    ans = 1\n",
    "    for i in range(n,0,-1):\n",
    "        ans *= i\n",
    "    return ans\n",
    "def trailingZeros(n):\n",
    "    count = 0\n",
    "    while n%10 == 0:\n",
    "        count+=1\n",
    "        n//=10\n",
    "    return count\n",
    "     \n",
    "num = int(input(\"Enter a Number : \"))\n",
    "fact=factorial(num)\n",
    "print(f\"Factorial of {num} is {fact} \")\n",
    "print(f\"No of trailing zero are : {trailingZeros(fact)} in {num} factorial\")\n"
   ]
  }
 ],
 "metadata": {
  "kernelspec": {
   "display_name": "Python 3 (ipykernel)",
   "language": "python",
   "name": "python3"
  },
  "language_info": {
   "codemirror_mode": {
    "name": "ipython",
    "version": 3
   },
   "file_extension": ".py",
   "mimetype": "text/x-python",
   "name": "python",
   "nbconvert_exporter": "python",
   "pygments_lexer": "ipython3",
   "version": "3.12.4"
  }
 },
 "nbformat": 4,
 "nbformat_minor": 5
}
