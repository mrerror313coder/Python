{
 "cells": [
  {
   "cell_type": "markdown",
   "id": "cee3214f-0e10-4f20-a70e-273661b0dca6",
   "metadata": {},
   "source": [
    "# UFUNCS in NumPy"
   ]
  },
  {
   "cell_type": "markdown",
   "id": "65b71c5a-2a32-45ee-a598-17803ca8aaa7",
   "metadata": {},
   "source": [
    "##### There are the Functions that are used to make the code easy and more effective."
   ]
  },
  {
   "cell_type": "markdown",
   "id": "4632fc32-9468-4b01-a65b-4e274d5feed0",
   "metadata": {},
   "source": [
    "##### ufuncs exist in two flavours : 1. unary ufuncs, which operate on a single input, and binary ufuncs, which operate on two inputs."
   ]
  },
  {
   "cell_type": "markdown",
   "id": "c1a3cc72-7ce0-47ed-a843-f908e810a0a4",
   "metadata": {},
   "source": [
    "###### .Array Arithmetic."
   ]
  },
  {
   "cell_type": "markdown",
   "id": "1f9db953-6d81-482f-83b0-d51e20914f08",
   "metadata": {},
   "source": [
    "###### arr = np.add(x,2)"
   ]
  },
  {
   "cell_type": "markdown",
   "id": "05299d72-cda0-4c21-a917-8a6ef7279045",
   "metadata": {},
   "source": [
    "###### .Absolute value"
   ]
  },
  {
   "cell_type": "markdown",
   "id": "2e3728b8-536e-4c1f-b736-ca6761168d87",
   "metadata": {},
   "source": [
    "###### arr = np.abs(x)"
   ]
  },
  {
   "cell_type": "markdown",
   "id": "bbe463b1-f607-400b-8d0c-95b95fbc6904",
   "metadata": {},
   "source": [
    "###### .Trignometric Functions."
   ]
  },
  {
   "cell_type": "markdown",
   "id": "972aeb93-d7a2-4309-a5ad-444e16736922",
   "metadata": {},
   "source": [
    "###### arr = np.sin(x)"
   ]
  },
  {
   "cell_type": "markdown",
   "id": "9c2ab91b-2f7d-4e4b-9183-2187b18b76cd",
   "metadata": {},
   "source": [
    "###### .Exponent and logarithms"
   ]
  },
  {
   "cell_type": "markdown",
   "id": "5bccebba-7587-4876-9a3a-a229f76c0a6b",
   "metadata": {},
   "source": [
    "###### arr = np.exe(x)"
   ]
  },
  {
   "cell_type": "markdown",
   "id": "1844624e-8f4b-45f2-8471-94fb8dd36fa0",
   "metadata": {},
   "source": [
    "###### arr = np.beta(x)"
   ]
  },
  {
   "cell_type": "markdown",
   "id": "7602daee-b228-4dfd-ae0f-f838768514ee",
   "metadata": {},
   "source": [
    "###### .Summing Arrays."
   ]
  },
  {
   "cell_type": "markdown",
   "id": "b60d7315-06bc-4642-9773-c6f54b619dcc",
   "metadata": {},
   "source": [
    "###### arr = np.sum(array_name)"
   ]
  },
  {
   "cell_type": "code",
   "execution_count": 22,
   "id": "2da7c668-927c-4332-9ee5-bbe1a5b6cbde",
   "metadata": {},
   "outputs": [],
   "source": [
    "import numpy as np\n",
    "arr1 = np.array([1,3,5,7,9])\n",
    "arr2 = np.array([2,4,6,8,10])"
   ]
  },
  {
   "cell_type": "code",
   "execution_count": 24,
   "id": "79ad5a86-5f59-4f25-8f52-884762f0289b",
   "metadata": {},
   "outputs": [
    {
     "name": "stdout",
     "output_type": "stream",
     "text": [
      "[ 3  7 11 15 19]\n"
     ]
    }
   ],
   "source": [
    "print(np.add(arr1,arr2))"
   ]
  },
  {
   "cell_type": "code",
   "execution_count": 34,
   "id": "e154b8fc-2f84-48b9-a93f-0a22aa485f3b",
   "metadata": {},
   "outputs": [
    {
     "name": "stdout",
     "output_type": "stream",
     "text": [
      "315\n"
     ]
    }
   ],
   "source": [
    "print(np.lcm.reduce(arr1))"
   ]
  },
  {
   "cell_type": "code",
   "execution_count": 36,
   "id": "7b93c0d8-03ca-4620-9a56-b4910f1ca107",
   "metadata": {},
   "outputs": [
    {
     "name": "stdout",
     "output_type": "stream",
     "text": [
      "[1 3 5 7 9]\n"
     ]
    }
   ],
   "source": [
    "print(np.abs(arr1))"
   ]
  },
  {
   "cell_type": "code",
   "execution_count": 38,
   "id": "4fdc1f65-d62f-478f-850c-584cbd8d882d",
   "metadata": {},
   "outputs": [
    {
     "name": "stdout",
     "output_type": "stream",
     "text": [
      "[1. 3. 5. 7. 9.]\n"
     ]
    }
   ],
   "source": [
    "print(np.fabs(arr1))"
   ]
  },
  {
   "cell_type": "code",
   "execution_count": 3,
   "id": "1403dda3-b6f7-420b-8637-c3e3d9e6b49e",
   "metadata": {},
   "outputs": [
    {
     "name": "stdout",
     "output_type": "stream",
     "text": [
      "2.2.2\n"
     ]
    }
   ],
   "source": [
    "import pandas as pd\n",
    "print(pd.__version__)"
   ]
  }
 ],
 "metadata": {
  "kernelspec": {
   "display_name": "Python 3 (ipykernel)",
   "language": "python",
   "name": "python3"
  },
  "language_info": {
   "codemirror_mode": {
    "name": "ipython",
    "version": 3
   },
   "file_extension": ".py",
   "mimetype": "text/x-python",
   "name": "python",
   "nbconvert_exporter": "python",
   "pygments_lexer": "ipython3",
   "version": "3.12.4"
  }
 },
 "nbformat": 4,
 "nbformat_minor": 5
}
