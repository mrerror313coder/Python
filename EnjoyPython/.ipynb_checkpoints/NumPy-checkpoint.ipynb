{
 "cells": [
  {
   "cell_type": "code",
   "execution_count": 5,
   "id": "cdd65145-9f27-4757-bac2-87a0c3f29e29",
   "metadata": {},
   "outputs": [
    {
     "name": "stdout",
     "output_type": "stream",
     "text": [
      "Enjoy\n"
     ]
    }
   ],
   "source": [
    "print(\"Enjoy\")"
   ]
  },
  {
   "cell_type": "code",
   "execution_count": 7,
   "id": "e449b5a8-1b9c-4e35-a8ce-b66b2bae20e0",
   "metadata": {},
   "outputs": [
    {
     "name": "stdout",
     "output_type": "stream",
     "text": [
      "Full Enjoy\n"
     ]
    }
   ],
   "source": [
    "print(\"Full Enjoy\")"
   ]
  },
  {
   "cell_type": "code",
   "execution_count": 23,
   "id": "40d26518-5479-40c1-a944-fc360279def5",
   "metadata": {},
   "outputs": [
    {
     "name": "stdout",
     "output_type": "stream",
     "text": [
      "[1 2 4]\n"
     ]
    }
   ],
   "source": [
    "import numpy as np\n",
    "a = np.array( [1, 2, 4])\n",
    "print(a)"
   ]
  },
  {
   "cell_type": "code",
   "execution_count": 33,
   "id": "61fc6711-20e8-44ae-a1fb-65388d8d5e94",
   "metadata": {},
   "outputs": [
    {
     "name": "stdout",
     "output_type": "stream",
     "text": [
      "1.37 μs ± 189 ns per loop (mean ± std. dev. of 7 runs, 1,000,000 loops each)\n"
     ]
    }
   ],
   "source": [
    "%timeit [j**4 for j in range (1,9)]"
   ]
  },
  {
   "cell_type": "code",
   "execution_count": 37,
   "id": "f3429150-283e-4873-a79d-dbbcca8d05a1",
   "metadata": {},
   "outputs": [
    {
     "name": "stdout",
     "output_type": "stream",
     "text": [
      "3.58 μs ± 328 ns per loop (mean ± std. dev. of 7 runs, 100,000 loops each)\n"
     ]
    }
   ],
   "source": [
    "import numpy as np\n",
    "%timeit np.arange(1,9)**4"
   ]
  },
  {
   "cell_type": "code",
   "execution_count": 43,
   "id": "fd0547ee-9def-4eff-95e8-bde4a4bab294",
   "metadata": {},
   "outputs": [
    {
     "name": "stdout",
     "output_type": "stream",
     "text": [
      "[1 2 3]\n"
     ]
    }
   ],
   "source": [
    "import numpy as np\n",
    "a=np.array([1, 2, 3])\n",
    "print(a)"
   ]
  },
  {
   "cell_type": "code",
   "execution_count": 53,
   "id": "09e52b37-431e-4443-ab6e-f6b410e139cb",
   "metadata": {},
   "outputs": [
    {
     "name": "stdout",
     "output_type": "stream",
     "text": [
      "[1 2 3 4]\n",
      "<class 'numpy.ndarray'>\n"
     ]
    },
    {
     "data": {
      "text/plain": [
       "array([1, 2, 3, 4])"
      ]
     },
     "execution_count": 53,
     "metadata": {},
     "output_type": "execute_result"
    }
   ],
   "source": [
    "x =[1, 2, 3, 4]\n",
    "y = np.array(x)\n",
    "print(y)\n",
    "print(type(y))\n",
    "y\n"
   ]
  },
  {
   "cell_type": "code",
   "execution_count": 4,
   "id": "d5908611-c7db-4f94-a67a-6b2debb10745",
   "metadata": {},
   "outputs": [
    {
     "name": "stdout",
     "output_type": "stream",
     "text": [
      "[ 12.23  13.32 100.    36.32]\n"
     ]
    }
   ],
   "source": [
    "import numpy as np\n",
    "list = [12.23, 13.32, 100, 36.32]\n",
    "arr = np.array(list)\n",
    "print(arr)"
   ]
  },
  {
   "cell_type": "code",
   "execution_count": 10,
   "id": "ec4e5392-7e05-4e0a-b3bf-2a8c3ef0c7bb",
   "metadata": {},
   "outputs": [
    {
     "name": "stdout",
     "output_type": "stream",
     "text": [
      "[[ 2  3  4]\n",
      " [ 5  6  7]\n",
      " [ 8  9 10]]\n"
     ]
    }
   ],
   "source": [
    "var = np.arange(2,11).reshape(3,3)\n",
    "print(var)"
   ]
  },
  {
   "cell_type": "code",
   "execution_count": 24,
   "id": "f895a89e-3af6-4385-b9a0-22ad4e901a52",
   "metadata": {},
   "outputs": [
    {
     "name": "stdout",
     "output_type": "stream",
     "text": [
      "[0. 0. 0. 0. 0. 0. 0. 0. 0. 0.]\n",
      "[ 0.  0.  0.  0.  0. 11.  0.  0.  0.  0.]\n"
     ]
    }
   ],
   "source": [
    "var1 = np.zeros(10)\n",
    "print(var1)\n",
    "var1[5] = 11\n",
    "print(var1)"
   ]
  },
  {
   "cell_type": "code",
   "execution_count": 34,
   "id": "9c9dd999-241a-4154-866d-b27a4254cfb9",
   "metadata": {},
   "outputs": [
    {
     "name": "stdout",
     "output_type": "stream",
     "text": [
      "[12 13 14 15 16 17 18 19 20 21 22 23 24 25 26 27 28 29 30 31 32 33 34 35\n",
      " 36 37]\n"
     ]
    }
   ],
   "source": [
    "var2 = np.arange(12,38)\n",
    "print(var2)"
   ]
  },
  {
   "cell_type": "code",
   "execution_count": 44,
   "id": "b3b077f3-5267-410d-a5e5-2dc90f0654e1",
   "metadata": {},
   "outputs": [
    {
     "name": "stdout",
     "output_type": "stream",
     "text": [
      "[12 13 14 15 16 17 18 19 20 21 22 23 24 25 26 27 28 29 30 31 32 33 34 35\n",
      " 36 37]\n",
      "\n",
      "[37 36 35 34 33 32 31 30 29 28 27 26 25 24 23 22 21 20 19 18 17 16 15 14\n",
      " 13 12]\n"
     ]
    }
   ],
   "source": [
    "var3 = np.arange(12,38)\n",
    "print(var3)\n",
    "var3 = var3[::-1]\n",
    "print()\n",
    "print(var3)"
   ]
  },
  {
   "cell_type": "code",
   "execution_count": 52,
   "id": "8b7f23a5-8aa0-4d00-af72-e59da246ce60",
   "metadata": {},
   "outputs": [
    {
     "name": "stdout",
     "output_type": "stream",
     "text": [
      "[1, 2, 3, 4]\n",
      "[1. 2. 3. 4.]\n"
     ]
    }
   ],
   "source": [
    "var4 = [1,2,3,4]\n",
    "print(var4)\n",
    "var5 = np.asfarray(var4)    # Used for convert in float type.\n",
    "print(var5)"
   ]
  },
  {
   "cell_type": "code",
   "execution_count": 58,
   "id": "8486791b-ce2e-4dbc-ae8a-23c853dea1b1",
   "metadata": {},
   "outputs": [
    {
     "name": "stdout",
     "output_type": "stream",
     "text": [
      "[[1. 1. 1. 1. 1.]\n",
      " [1. 1. 1. 1. 1.]\n",
      " [1. 1. 1. 1. 1.]\n",
      " [1. 1. 1. 1. 1.]\n",
      " [1. 1. 1. 1. 1.]]\n",
      "[[1. 1. 1. 1. 1.]\n",
      " [1. 0. 0. 0. 1.]\n",
      " [1. 0. 0. 0. 1.]\n",
      " [1. 0. 0. 0. 1.]\n",
      " [1. 1. 1. 1. 1.]]\n"
     ]
    }
   ],
   "source": [
    "var6 = np.ones((5,5))\n",
    "print(var6)\n",
    "var6[1:-1, 1:-1] = 0\n",
    "print(var6)"
   ]
  },
  {
   "cell_type": "code",
   "execution_count": 76,
   "id": "13a861fe-ec93-4e15-a9c1-9c51f8ec7870",
   "metadata": {},
   "outputs": [
    {
     "name": "stdout",
     "output_type": "stream",
     "text": [
      "[[1. 1. 1.]\n",
      " [1. 1. 1.]\n",
      " [1. 1. 1.]]\n",
      "\n",
      "[[0. 0. 0. 0. 0.]\n",
      " [0. 1. 1. 1. 0.]\n",
      " [0. 1. 1. 1. 0.]\n",
      " [0. 1. 1. 1. 0.]\n",
      " [0. 0. 0. 0. 0.]]\n"
     ]
    }
   ],
   "source": [
    "var7 = np.ones((3,3))\n",
    "print(var7)\n",
    "print()\n",
    "pd_var7 = np.pad(var7, pad_width=1, mode = \"constant\", constant_values=0)\n",
    "print(pd_var7)"
   ]
  },
  {
   "cell_type": "code",
   "execution_count": 80,
   "id": "ac01facd-988d-485e-8a0b-168148d70f88",
   "metadata": {},
   "outputs": [
    {
     "name": "stdout",
     "output_type": "stream",
     "text": [
      "[[1. 1. 1. 1. 1. 1. 1. 1.]\n",
      " [1. 1. 1. 1. 1. 1. 1. 1.]\n",
      " [1. 1. 1. 1. 1. 1. 1. 1.]\n",
      " [1. 1. 1. 1. 1. 1. 1. 1.]\n",
      " [1. 1. 1. 1. 1. 1. 1. 1.]\n",
      " [1. 1. 1. 1. 1. 1. 1. 1.]\n",
      " [1. 1. 1. 1. 1. 1. 1. 1.]\n",
      " [1. 1. 1. 1. 1. 1. 1. 1.]]\n"
     ]
    }
   ],
   "source": [
    "var8 = np.ones((8,8))\n",
    "print(var8)"
   ]
  }
 ],
 "metadata": {
  "kernelspec": {
   "display_name": "Python 3 (ipykernel)",
   "language": "python",
   "name": "python3"
  },
  "language_info": {
   "codemirror_mode": {
    "name": "ipython",
    "version": 3
   },
   "file_extension": ".py",
   "mimetype": "text/x-python",
   "name": "python",
   "nbconvert_exporter": "python",
   "pygments_lexer": "ipython3",
   "version": "3.12.4"
  }
 },
 "nbformat": 4,
 "nbformat_minor": 5
}
