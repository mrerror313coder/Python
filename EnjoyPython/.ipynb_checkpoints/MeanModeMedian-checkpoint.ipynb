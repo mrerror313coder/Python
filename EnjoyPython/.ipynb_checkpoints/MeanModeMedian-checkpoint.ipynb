{
 "cells": [
  {
   "cell_type": "markdown",
   "id": "b8b1814d-5496-4621-baf4-b56b027d3b2d",
   "metadata": {},
   "source": [
    "# Mean"
   ]
  },
  {
   "cell_type": "code",
   "execution_count": 36,
   "id": "58d7c4c2-f749-407a-aa9f-4df80c94d86d",
   "metadata": {},
   "outputs": [
    {
     "name": "stdin",
     "output_type": "stream",
     "text": [
      "Enter Total No of Elements 5\n",
      "Enter 1 value :  2\n",
      "Enter 2 value :  2\n",
      "Enter 3 value :  2\n",
      "Enter 4 value :  2\n",
      "Enter 5 value :  2\n"
     ]
    },
    {
     "name": "stdout",
     "output_type": "stream",
     "text": [
      "2\n"
     ]
    }
   ],
   "source": [
    "n = int(input(\"Enter Total No of Elements\"))\n",
    "element=[0]*n\n",
    "for i in range(0,n):\n",
    "    element[i]=int(input(f\"Enter {i+1} value : \"))\n",
    "sum=0\n",
    "for i in element:\n",
    "    sum+=i\n",
    "mean = sum//n\n",
    "print(mean)"
   ]
  },
  {
   "cell_type": "code",
   "execution_count": 84,
   "id": "def727ea-d893-42c7-9ad2-826c1d8dc35a",
   "metadata": {},
   "outputs": [
    {
     "name": "stdin",
     "output_type": "stream",
     "text": [
      "Enter Total No of Elements :  2\n",
      "Enter 1 number :  2\n",
      "Enter 2 number :  2\n"
     ]
    },
    {
     "name": "stdout",
     "output_type": "stream",
     "text": [
      "Mean of given Elements is 2\n"
     ]
    }
   ],
   "source": [
    "\n",
    "try:\n",
    "    n = int(input(\"Enter Total No of Elements : \"))\n",
    "    if n<=0:\n",
    "        raise ValueError\n",
    "    listElement = [0]*n\n",
    "    for i in range(0,n):\n",
    "        listElement[i]=int(input(f\"Enter {i+1} number : \"))\n",
    "    def mean(list):\n",
    "         sum=0\n",
    "         for i in list:\n",
    "            sum+=i\n",
    "         a = len(list)\n",
    "         ans=sum//a\n",
    "         return ans\n",
    "    print(f\"Mean of given Elements is {mean(listElement)}\")\n",
    "except ValueError:\n",
    "    print(\"Enter Positive Number\")"
   ]
  },
  {
   "cell_type": "markdown",
   "id": "c679b36f-421d-42c5-8abb-7beebfe34cc5",
   "metadata": {},
   "source": [
    "# Median"
   ]
  },
  {
   "cell_type": "code",
   "execution_count": null,
   "id": "d540f45b-2333-4e44-9ad4-b4fedf799d9a",
   "metadata": {},
   "outputs": [],
   "source": [
    "n = int(input(\"Enter Size of Elemennt\"))"
   ]
  }
 ],
 "metadata": {
  "kernelspec": {
   "display_name": "Python 3 (ipykernel)",
   "language": "python",
   "name": "python3"
  },
  "language_info": {
   "codemirror_mode": {
    "name": "ipython",
    "version": 3
   },
   "file_extension": ".py",
   "mimetype": "text/x-python",
   "name": "python",
   "nbconvert_exporter": "python",
   "pygments_lexer": "ipython3",
   "version": "3.12.4"
  }
 },
 "nbformat": 4,
 "nbformat_minor": 5
}
