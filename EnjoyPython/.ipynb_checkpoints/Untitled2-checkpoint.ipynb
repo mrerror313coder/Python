{
 "cells": [
  {
   "cell_type": "code",
   "execution_count": 3,
   "id": "8ca338c9-058b-4e35-87a7-d71907b33389",
   "metadata": {},
   "outputs": [
    {
     "name": "stdout",
     "output_type": "stream",
     "text": [
      "Mean along axis 0: [2.5 3.5 4.5]\n",
      "Mean along axis 1: [2. 5.]\n"
     ]
    }
   ],
   "source": [
    "import numpy as np\n",
    "\n",
    "# Create a 2D NumPy array\n",
    "array = np.array([[1, 2, 3], [4, 5, 6]])\n",
    "\n",
    "# Calculate the mean along the specified axis\n",
    "mean_value_axis0 = np.mean(array, axis=0)  # Mean along columns\n",
    "mean_value_axis1 = np.mean(array, axis=1)  # Mean along rows\n",
    "\n",
    "print(\"Mean along axis 0:\", mean_value_axis0)\n",
    "print(\"Mean along axis 1:\", mean_value_axis1)\n"
   ]
  },
  {
   "cell_type": "code",
   "execution_count": 5,
   "id": "c9fb577a-2d03-4741-a9fb-34d8d98834bd",
   "metadata": {},
   "outputs": [
    {
     "name": "stdout",
     "output_type": "stream",
     "text": [
      "2.0\n"
     ]
    }
   ],
   "source": [
    "import numpy as np\n",
    "\n",
    "# Create a NumPy array\n",
    "array = np.array([1, 2, 3, 4, 5])\n",
    "\n",
    "# Calculate the variance of the array elements\n",
    "variance = np.var(array)\n",
    "\n",
    "print(variance)\n"
   ]
  },
  {
   "cell_type": "code",
   "execution_count": 7,
   "id": "9a99c655-5eda-4446-bee9-9b64cba78414",
   "metadata": {},
   "outputs": [
    {
     "name": "stdout",
     "output_type": "stream",
     "text": [
      "Variance along axis 0: [2.25 2.25 2.25]\n",
      "Variance along axis 1: [0.66666667 0.66666667]\n"
     ]
    }
   ],
   "source": [
    "import numpy as np\n",
    "\n",
    "# Create a 2D NumPy array\n",
    "array = np.array([[1, 2, 3], [4, 5, 6]])\n",
    "\n",
    "# Calculate the variance along the specified axis\n",
    "variance_axis0 = np.var(array, axis=0)  # Variance along columns\n",
    "variance_axis1 = np.var(array, axis=1)  # Variance along rows\n",
    "\n",
    "print(\"Variance along axis 0:\", variance_axis0)\n",
    "print(\"Variance along axis 1:\", variance_axis1)\n"
   ]
  },
  {
   "cell_type": "code",
   "execution_count": 13,
   "id": "36429401-9b7f-4072-959e-724381ad6b19",
   "metadata": {},
   "outputs": [
    {
     "name": "stdout",
     "output_type": "stream",
     "text": [
      "[1 3 3 5]\n"
     ]
    }
   ],
   "source": [
    "import numpy as np\n",
    "\n",
    "# Create a NumPy array\n",
    "array = np.array([1, 3, 2, 5])\n",
    "\n",
    "# Compute the cumulative maximum using np.maximum.accumulate\n",
    "cumulative_max = np.maximum.accumulate(array)\n",
    "\n",
    "print(cumulative_max)\n"
   ]
  },
  {
   "cell_type": "code",
   "execution_count": 21,
   "id": "04971725-b67d-4829-8aa2-8e21ceaf719f",
   "metadata": {},
   "outputs": [
    {
     "name": "stdout",
     "output_type": "stream",
     "text": [
      "(array([3, 4, 5], dtype=int64),)\n"
     ]
    }
   ],
   "source": [
    "import numpy as np\n",
    "\n",
    "# Create a NumPy array\n",
    "array = np.array([1, 2, 3, 4, 5, 6])\n",
    "\n",
    "# Define a condition\n",
    "condition = array > 3\n",
    "\n",
    "# Find indices where the condition is True\n",
    "indices = np.where(condition)\n",
    "\n",
    "print(indices)\n"
   ]
  },
  {
   "cell_type": "code",
   "execution_count": 23,
   "id": "956ca66b-b535-4320-83fc-d0552fd3aa8e",
   "metadata": {},
   "outputs": [
    {
     "name": "stdout",
     "output_type": "stream",
     "text": [
      "(array([1, 1, 1], dtype=int64), array([0, 1, 2], dtype=int64))\n"
     ]
    }
   ],
   "source": [
    "import numpy as np\n",
    "\n",
    "# Create a 2D NumPy array\n",
    "array = np.array([[1, 2, 3], [4, 5, 6]])\n",
    "\n",
    "# Define a condition\n",
    "condition = array > 3\n",
    "\n",
    "# Find indices where the condition is True\n",
    "indices = np.where(condition)\n",
    "\n",
    "print(indices)\n"
   ]
  },
  {
   "cell_type": "code",
   "execution_count": 32,
   "id": "a4efcc74-a396-44cc-a29d-6f066c69bad7",
   "metadata": {},
   "outputs": [
    {
     "name": "stdout",
     "output_type": "stream",
     "text": [
      "[[7 7 7]\n",
      " [7 7 7]\n",
      " [7 7 7]\n",
      " [7 7 7]]\n"
     ]
    }
   ],
   "source": [
    "import numpy as np\n",
    "\n",
    "# This will create an array of ones, not filled with 7\n",
    "array = np.ones((4, 3), dtype='i') * 7\n",
    "print(array)"
   ]
  },
  {
   "cell_type": "code",
   "execution_count": 30,
   "id": "75aeadd3-7e34-4342-a92c-44308d3b02f4",
   "metadata": {},
   "outputs": [
    {
     "name": "stdout",
     "output_type": "stream",
     "text": [
      "[[7 7 7]\n",
      " [7 7 7]\n",
      " [7 7 7]\n",
      " [7 7 7]]\n"
     ]
    }
   ],
   "source": [
    "import numpy as np\n",
    "\n",
    "# Create an array of shape (4, 3) filled with the value 7\n",
    "array = np.full((4, 3), 7)\n",
    "\n",
    "print(array)\n",
    "# Output:\n",
    "# [[7 7 7]\n",
    "#  [7 7 7]\n",
    "#  [7 7 7]\n",
    "#  [7 7 7]]\n"
   ]
  },
  {
   "cell_type": "code",
   "execution_count": 34,
   "id": "5f044d93-4a1a-4c52-b166-12b2a4537799",
   "metadata": {},
   "outputs": [
    {
     "name": "stdout",
     "output_type": "stream",
     "text": [
      "[[1. 0. 0. 0. 0.]\n",
      " [0. 1. 0. 0. 0.]\n",
      " [0. 0. 1. 0. 0.]\n",
      " [0. 0. 0. 1. 0.]\n",
      " [0. 0. 0. 0. 1.]]\n"
     ]
    }
   ],
   "source": [
    "import numpy as np\n",
    "\n",
    "# Create a 5x5 identity matrix\n",
    "matrix = np.identity(5)\n",
    "\n",
    "print(matrix)\n"
   ]
  },
  {
   "cell_type": "code",
   "execution_count": 42,
   "id": "7c91e28b-11e4-408e-a3e2-d229853611ba",
   "metadata": {},
   "outputs": [
    {
     "name": "stdout",
     "output_type": "stream",
     "text": [
      "[[1. 0. 0. 0. 0.]\n",
      " [0. 1. 0. 0. 0.]\n",
      " [0. 0. 1. 0. 0.]\n",
      " [0. 0. 0. 1. 0.]\n",
      " [0. 0. 0. 0. 1.]]\n",
      "<class 'numpy.ndarray'>\n"
     ]
    }
   ],
   "source": [
    "import numpy as np\n",
    "\n",
    "matrix = np.eye(5)\n",
    "\n",
    "print(matrix)\n",
    "print(type(matrix))\n"
   ]
  },
  {
   "cell_type": "code",
   "execution_count": 44,
   "id": "0d8badaf-5cb0-4c1a-8cb7-ac325f253b4e",
   "metadata": {},
   "outputs": [
    {
     "data": {
      "text/plain": [
       "array([0., 0., 0., 0., 0., 0., 0., 0., 0., 0.])"
      ]
     },
     "execution_count": 44,
     "metadata": {},
     "output_type": "execute_result"
    }
   ],
   "source": [
    "np.zeros(10)\n"
   ]
  },
  {
   "cell_type": "code",
   "execution_count": 46,
   "id": "1b3aa405-c926-4996-8572-95f1879fc06d",
   "metadata": {},
   "outputs": [
    {
     "data": {
      "text/plain": [
       "array([0., 0., 0., 0., 0., 0., 0., 0., 0., 0.])"
      ]
     },
     "execution_count": 46,
     "metadata": {},
     "output_type": "execute_result"
    }
   ],
   "source": [
    "np.zeros((10))"
   ]
  },
  {
   "cell_type": "code",
   "execution_count": 48,
   "id": "06268304-fb87-4261-9bce-9021644bd771",
   "metadata": {},
   "outputs": [
    {
     "data": {
      "text/plain": [
       "array([0., 0., 0., 0., 0., 0., 0., 0., 0., 0.])"
      ]
     },
     "execution_count": 48,
     "metadata": {},
     "output_type": "execute_result"
    }
   ],
   "source": [
    "np.zeros([10])"
   ]
  },
  {
   "cell_type": "code",
   "execution_count": 56,
   "id": "dfc533c2-52b3-4ccc-a306-cb20125d5854",
   "metadata": {},
   "outputs": [
    {
     "name": "stdout",
     "output_type": "stream",
     "text": [
      "[3 3 3 4 5 6 6 6 6]\n"
     ]
    }
   ],
   "source": [
    "import numpy as np\n",
    "\n",
    "arr = np.array([1, 2, 3, 4, 5,6,7,8,9])\n",
    "clipped_arr = np.clip(arr, 3, 6)\n",
    "print(clipped_arr)  # Output: [2, 2, 3, 4, 4]\n"
   ]
  },
  {
   "cell_type": "code",
   "execution_count": 58,
   "id": "c8bf9b68-4038-4969-95bf-d458b4c8d0b7",
   "metadata": {},
   "outputs": [
    {
     "name": "stdout",
     "output_type": "stream",
     "text": [
      "[0.21433226 0.92429793 0.00116403 0.30271151 0.67226838 0.72352951\n",
      " 0.5781205  0.82317525 0.85190062 0.82440291]\n"
     ]
    }
   ],
   "source": [
    "a = np.random.rand(10)\n",
    "print(a)"
   ]
  },
  {
   "cell_type": "code",
   "execution_count": 60,
   "id": "52f4f96d-c358-4986-ad98-2838ab609f17",
   "metadata": {},
   "outputs": [
    {
     "name": "stdout",
     "output_type": "stream",
     "text": [
      "[0.61530205 0.50941416 0.79343812 0.76899589 0.77834121 0.3632912\n",
      " 0.26633052 0.98197721 0.01704973 0.57382041]\n"
     ]
    }
   ],
   "source": [
    "a = np.random.random(10)\n",
    "print(a)"
   ]
  },
  {
   "cell_type": "code",
   "execution_count": 62,
   "id": "a76348e4-b1ba-428b-82f4-f5806130ca8a",
   "metadata": {},
   "outputs": [
    {
     "name": "stdout",
     "output_type": "stream",
     "text": [
      "[ 1.68577803  0.6861046   0.25447264 -0.04987913 -0.47155494 -1.79741553\n",
      " -0.9659885  -2.07850524 -2.06609362  0.31343034]\n"
     ]
    }
   ],
   "source": [
    "a = np.random.randn(10)\n",
    "print(a)"
   ]
  }
 ],
 "metadata": {
  "kernelspec": {
   "display_name": "Python 3 (ipykernel)",
   "language": "python",
   "name": "python3"
  },
  "language_info": {
   "codemirror_mode": {
    "name": "ipython",
    "version": 3
   },
   "file_extension": ".py",
   "mimetype": "text/x-python",
   "name": "python",
   "nbconvert_exporter": "python",
   "pygments_lexer": "ipython3",
   "version": "3.12.4"
  }
 },
 "nbformat": 4,
 "nbformat_minor": 5
}
