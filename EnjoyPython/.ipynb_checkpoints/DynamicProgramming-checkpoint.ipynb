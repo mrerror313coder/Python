{
 "cells": [
  {
   "cell_type": "markdown",
   "id": "b0a2f453-1e53-4a5b-9590-7acbc6739293",
   "metadata": {},
   "source": [
    "# DYNAMIC PROGRAMMING"
   ]
  },
  {
   "cell_type": "code",
   "execution_count": 84,
   "id": "1c6e4de3-2247-44aa-99e7-214421a16f26",
   "metadata": {},
   "outputs": [
    {
     "name": "stdin",
     "output_type": "stream",
     "text": [
      "Enter Number of Terms :  7\n"
     ]
    },
    {
     "name": "stdout",
     "output_type": "stream",
     "text": [
      "0 1 1 2 3 5 8 13 "
     ]
    }
   ],
   "source": [
    "n = int(input(\"Enter Number of Terms : \"))\n",
    "def fib(n,dp):\n",
    "    if n==0:\n",
    "        return 0\n",
    "    elif n==1:\n",
    "        return 1\n",
    "    elif dp[n] !=-1:\n",
    "        return dp[n]\n",
    "    else:\n",
    "        dp[n] = fib(n-2,dp)+fib(n-1,dp)\n",
    "        return dp[n]\n",
    "\n",
    "\n",
    "dp = [-1]*(n+1)\n",
    "for i in range(0,n+1):\n",
    "    print(fib(i,dp),end=\" \")\n",
    "    "
   ]
  },
  {
   "cell_type": "markdown",
   "id": "37361f6c-a410-4ff4-981a-9f6656047106",
   "metadata": {},
   "source": [
    "### Approcehs of DP  1. Top-Down Approch (Memorization in Recursion) 2. Bottom-Up Approch (Tabulation in Iteration)"
   ]
  },
  {
   "cell_type": "code",
   "execution_count": 82,
   "id": "f5377bf1-eaec-4943-a276-f165fe1cef7d",
   "metadata": {},
   "outputs": [
    {
     "name": "stdout",
     "output_type": "stream",
     "text": [
      "13\n"
     ]
    }
   ],
   "source": [
    "dp = [0]*(101)\n",
    "dp[0] = 0\n",
    "dp[1] = 1\n",
    "for i in range(2,101):\n",
    "    dp[i] = dp[i-1]+dp[i-2]\n",
    "print(dp[7])"
   ]
  },
  {
   "cell_type": "markdown",
   "id": "4ec456d6-66b4-449c-bb50-0ebf4c398983",
   "metadata": {},
   "source": [
    "# KNAPSACK: Three Types 1. Fractional KnapSack 2. 0-1 KnapSack 3. UnBounded KnapSack"
   ]
  },
  {
   "cell_type": "code",
   "execution_count": null,
   "id": "2418ce53-6047-49b3-b49f-408eb87c66c6",
   "metadata": {},
   "outputs": [],
   "source": []
  }
 ],
 "metadata": {
  "kernelspec": {
   "display_name": "Python 3 (ipykernel)",
   "language": "python",
   "name": "python3"
  },
  "language_info": {
   "codemirror_mode": {
    "name": "ipython",
    "version": 3
   },
   "file_extension": ".py",
   "mimetype": "text/x-python",
   "name": "python",
   "nbconvert_exporter": "python",
   "pygments_lexer": "ipython3",
   "version": "3.12.4"
  }
 },
 "nbformat": 4,
 "nbformat_minor": 5
}
