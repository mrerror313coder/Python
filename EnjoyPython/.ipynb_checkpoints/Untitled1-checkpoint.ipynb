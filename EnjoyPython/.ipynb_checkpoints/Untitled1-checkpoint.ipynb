{
 "cells": [
  {
   "cell_type": "code",
   "execution_count": 2,
   "id": "70bcd77e-fed6-4c79-bd90-a4b567f3a808",
   "metadata": {},
   "outputs": [],
   "source": [
    "import numpy as np"
   ]
  },
  {
   "cell_type": "code",
   "execution_count": 10,
   "id": "394cf89b-5f9a-4611-aa60-aacef08afad8",
   "metadata": {},
   "outputs": [
    {
     "name": "stdout",
     "output_type": "stream",
     "text": [
      "[ 6  8 10 12]\n"
     ]
    }
   ],
   "source": [
    "array1 = np.array([1,2,3,4])\n",
    "array2 = np.array([5,6,7,8])\n",
    "ans = np.add(array1,array2)\n",
    "print(ans)"
   ]
  },
  {
   "cell_type": "code",
   "execution_count": 12,
   "id": "cae26871-f646-459c-9872-6a4fba0009cf",
   "metadata": {},
   "outputs": [
    {
     "name": "stdout",
     "output_type": "stream",
     "text": [
      "12\n"
     ]
    }
   ],
   "source": [
    "print(np.lcm.reduce(array1))"
   ]
  },
  {
   "cell_type": "code",
   "execution_count": 16,
   "id": "2b808564-ee07-4b09-9d05-22fc52bb892e",
   "metadata": {},
   "outputs": [
    {
     "name": "stdout",
     "output_type": "stream",
     "text": [
      "12\n"
     ]
    }
   ],
   "source": [
    "a =12\n",
    "b = 2\n",
    "print(np.lcm(a,b))"
   ]
  },
  {
   "cell_type": "code",
   "execution_count": 22,
   "id": "d0f2e8c6-b600-4f2d-bc06-cef979ab80ce",
   "metadata": {},
   "outputs": [
    {
     "name": "stdout",
     "output_type": "stream",
     "text": [
      "[5 7 9]\n"
     ]
    }
   ],
   "source": [
    "import numpy as np\n",
    "x = np.array([1, 2, 3])\n",
    "y = np.array([4, 5, 6])\n",
    "result = np.add(x, y)  # array([5, 7, 9])\n",
    "print(result)\n"
   ]
  },
  {
   "cell_type": "code",
   "execution_count": 24,
   "id": "92a6912e-82c2-4c77-8da6-1b319a14d4b0",
   "metadata": {},
   "outputs": [
    {
     "name": "stdout",
     "output_type": "stream",
     "text": [
      "[4 4 4]\n"
     ]
    }
   ],
   "source": [
    "x = np.array([5, 6, 7])\n",
    "y = np.array([1, 2, 3])\n",
    "result = np.subtract(x, y)  # array([4, 4, 4])\n",
    "print(result)"
   ]
  },
  {
   "cell_type": "code",
   "execution_count": 26,
   "id": "d00f3d08-e12b-45a6-82a8-fd9ec4b685e2",
   "metadata": {},
   "outputs": [
    {
     "name": "stdout",
     "output_type": "stream",
     "text": [
      "[ 4 10 18]\n"
     ]
    }
   ],
   "source": [
    "x = np.array([1, 2, 3])\n",
    "y = np.array([4, 5, 6])\n",
    "result = np.multiply(x, y)  # array([ 4, 10, 18])\n",
    "print(result)"
   ]
  },
  {
   "cell_type": "code",
   "execution_count": 28,
   "id": "e0d3ef85-7107-493b-8b57-b8788287abf0",
   "metadata": {},
   "outputs": [
    {
     "name": "stdout",
     "output_type": "stream",
     "text": [
      "[4. 2. 1.]\n"
     ]
    }
   ],
   "source": [
    "x = np.array([8, 6, 4])\n",
    "y = np.array([2, 3, 4])\n",
    "result = np.divide(x, y)  # array([4. , 2. , 1. ])\n",
    "print(result)"
   ]
  },
  {
   "cell_type": "code",
   "execution_count": 30,
   "id": "77caec89-514a-466d-81a0-f80b5e6828a3",
   "metadata": {},
   "outputs": [
    {
     "name": "stdout",
     "output_type": "stream",
     "text": [
      "[8 9 4]\n"
     ]
    }
   ],
   "source": [
    "base = np.array([2, 3, 4])\n",
    "exponent = np.array([3, 2, 1])\n",
    "result = np.power(base, exponent)  # array([ 8,  9,  4])\n",
    "print(result)"
   ]
  },
  {
   "cell_type": "code",
   "execution_count": 32,
   "id": "f24272bf-bbf3-4c7f-996e-711c2217a9c9",
   "metadata": {},
   "outputs": [
    {
     "name": "stdout",
     "output_type": "stream",
     "text": [
      "[2. 3. 4.]\n"
     ]
    }
   ],
   "source": [
    "x = np.array([4, 9, 16])\n",
    "result = np.sqrt(x)  # array([2., 3., 4.])\n",
    "print(result)"
   ]
  },
  {
   "cell_type": "code",
   "execution_count": 35,
   "id": "c21e28b8-d451-447f-9689-f329f217ea67",
   "metadata": {},
   "outputs": [
    {
     "name": "stdout",
     "output_type": "stream",
     "text": [
      "[ 2.71828183  7.3890561  20.08553692]\n"
     ]
    }
   ],
   "source": [
    "x = np.array([1, 2, 3])\n",
    "result = np.exp(x)  # array([ 2.71828183,  7.3890561 , 20.08553692])\n",
    "print(result)"
   ]
  },
  {
   "cell_type": "code",
   "execution_count": 37,
   "id": "82c70fdc-b148-4943-bd71-0b7eed3524e0",
   "metadata": {},
   "outputs": [
    {
     "name": "stdout",
     "output_type": "stream",
     "text": [
      "[0. 1. 2.]\n"
     ]
    }
   ],
   "source": [
    "x = np.array([1, np.e, np.e**2])\n",
    "result = np.log(x)  # array([0., 1., 2.])\n",
    "print(result)"
   ]
  },
  {
   "cell_type": "code",
   "execution_count": 39,
   "id": "b1389de4-821b-4f52-ab32-70e4edc31061",
   "metadata": {},
   "outputs": [
    {
     "name": "stdout",
     "output_type": "stream",
     "text": [
      "[0.0000000e+00 1.0000000e+00 1.2246468e-16]\n"
     ]
    }
   ],
   "source": [
    "x = np.array([0, np.pi/2, np.pi])\n",
    "result = np.sin(x)  # array([0.0000000e+00, 1.0000000e+00, 1.2246468e-16])\n",
    "print(result)"
   ]
  },
  {
   "cell_type": "code",
   "execution_count": 41,
   "id": "f12181b0-dbff-4986-86e4-3afe517afc20",
   "metadata": {},
   "outputs": [
    {
     "name": "stdout",
     "output_type": "stream",
     "text": [
      "[ 1.000000e+00  6.123234e-17 -1.000000e+00]\n"
     ]
    }
   ],
   "source": [
    "x = np.array([0, np.pi/2, np.pi])\n",
    "result = np.cos(x)  # array([ 1.0000000e+00,  6.1232340e-17, -1.0000000e+00])\n",
    "print(result)"
   ]
  },
  {
   "cell_type": "code",
   "execution_count": 43,
   "id": "fd6f18a8-5521-4bb0-8750-f3a29cf122fe",
   "metadata": {},
   "outputs": [
    {
     "name": "stdout",
     "output_type": "stream",
     "text": [
      "[0.00000000e+00 1.00000000e+00 1.63312394e+16]\n"
     ]
    }
   ],
   "source": [
    "x = np.array([0, np.pi/4, np.pi/2])\n",
    "result = np.tan(x)  # array([0.0000000e+00, 1.0000000e+00, 1.6331239e+16])\n",
    "print(result)"
   ]
  },
  {
   "cell_type": "code",
   "execution_count": 45,
   "id": "0701484c-7655-48b8-9435-f0ae9091544f",
   "metadata": {},
   "outputs": [
    {
     "name": "stdout",
     "output_type": "stream",
     "text": [
      "[3 2 3]\n"
     ]
    }
   ],
   "source": [
    "x = np.array([1, 2, 3])\n",
    "y = np.array([3, 2, 1])\n",
    "result = np.maximum(x, y)  # array([3, 2, 3])\n",
    "print(result)"
   ]
  },
  {
   "cell_type": "code",
   "execution_count": 47,
   "id": "77bbc9f2-de37-4096-a2a9-aed99241759e",
   "metadata": {},
   "outputs": [
    {
     "name": "stdout",
     "output_type": "stream",
     "text": [
      "[1 2 1]\n"
     ]
    }
   ],
   "source": [
    "x = np.array([1, 2, 3])\n",
    "y = np.array([3, 2, 1])\n",
    "result = np.minimum(x, y)  # array([1, 2, 1])\n",
    "print(result)"
   ]
  },
  {
   "cell_type": "code",
   "execution_count": 51,
   "id": "6505b804-a420-4426-9b12-d6ec1d69dd9d",
   "metadata": {},
   "outputs": [
    {
     "name": "stdout",
     "output_type": "stream",
     "text": [
      "[1 2 3]\n"
     ]
    }
   ],
   "source": [
    "x = np.array([-1, -2, 3])\n",
    "result = np.abs(x)  # array([1, 2, 3])\n",
    "print(result)"
   ]
  },
  {
   "cell_type": "code",
   "execution_count": 59,
   "id": "3bf134ba-649b-45ff-8e81-6457608db0d1",
   "metadata": {},
   "outputs": [
    {
     "name": "stdout",
     "output_type": "stream",
     "text": [
      "Series([], dtype: object)\n"
     ]
    }
   ],
   "source": [
    "import pandas as pd\n",
    "s = pd.Series()\n",
    "print(s)"
   ]
  },
  {
   "cell_type": "code",
   "execution_count": 61,
   "id": "115e3d11-2dc3-4ef8-91ed-e2d964a0461b",
   "metadata": {},
   "outputs": [
    {
     "name": "stdout",
     "output_type": "stream",
     "text": [
      "0    1\n",
      "1    2\n",
      "2    3\n",
      "3    4\n",
      "dtype: int64\n"
     ]
    }
   ],
   "source": [
    "a = pd.Series([1,2,3,4])\n",
    "print(a)"
   ]
  },
  {
   "cell_type": "code",
   "execution_count": 63,
   "id": "4b59c458-7555-4efc-9ac5-99056d7f9d62",
   "metadata": {},
   "outputs": [
    {
     "name": "stdout",
     "output_type": "stream",
     "text": [
      "[1 2 3 4]\n"
     ]
    }
   ],
   "source": [
    "print(a.values)"
   ]
  },
  {
   "cell_type": "code",
   "execution_count": 65,
   "id": "cafe59f2-0584-4c08-b4fe-7ba23f96b8e5",
   "metadata": {},
   "outputs": [
    {
     "name": "stdout",
     "output_type": "stream",
     "text": [
      "RangeIndex(start=0, stop=4, step=1)\n"
     ]
    }
   ],
   "source": [
    "print(a.index)"
   ]
  },
  {
   "cell_type": "code",
   "execution_count": 71,
   "id": "8c0a7285-3b48-4f1c-955b-7ae07a9965c8",
   "metadata": {},
   "outputs": [
    {
     "name": "stdout",
     "output_type": "stream",
     "text": [
      "4\n"
     ]
    }
   ],
   "source": [
    "print(a[3])"
   ]
  },
  {
   "cell_type": "code",
   "execution_count": 73,
   "id": "2c2927a7-254e-422a-a859-b3e004e232bf",
   "metadata": {},
   "outputs": [
    {
     "name": "stdout",
     "output_type": "stream",
     "text": [
      "a    1\n",
      "b    2\n",
      "c    3\n",
      "d    4\n",
      "e    5\n",
      "dtype: int64\n"
     ]
    }
   ],
   "source": [
    "b = pd.Series([1,2,3,4,5],index=[\"a\",\"b\",\"c\",\"d\",\"e\"])\n",
    "print(b)"
   ]
  },
  {
   "cell_type": "code",
   "execution_count": 75,
   "id": "7cef49a4-e789-4b3b-9ff8-5c2807c87cbf",
   "metadata": {},
   "outputs": [
    {
     "name": "stdout",
     "output_type": "stream",
     "text": [
      "3\n"
     ]
    },
    {
     "name": "stderr",
     "output_type": "stream",
     "text": [
      "C:\\Users\\M Hamza Mirani\\AppData\\Local\\Temp\\ipykernel_18368\\277079519.py:1: FutureWarning: Series.__getitem__ treating keys as positions is deprecated. In a future version, integer keys will always be treated as labels (consistent with DataFrame behavior). To access a value by position, use `ser.iloc[pos]`\n",
      "  print(b[2])\n"
     ]
    }
   ],
   "source": [
    "print(b[2])"
   ]
  },
  {
   "cell_type": "code",
   "execution_count": 77,
   "id": "d7ae62d4-120d-42bb-ad0a-5a2a38ba92f3",
   "metadata": {},
   "outputs": [
    {
     "name": "stdout",
     "output_type": "stream",
     "text": [
      "5\n"
     ]
    }
   ],
   "source": [
    "print(b[\"e\"])"
   ]
  },
  {
   "cell_type": "code",
   "execution_count": 81,
   "id": "a4a343ed-e3f6-4734-8a25-7eb08fc674dc",
   "metadata": {},
   "outputs": [
    {
     "name": "stdout",
     "output_type": "stream",
     "text": [
      "c    1\n",
      "b    2\n",
      "d    3\n",
      "a    4\n",
      "e    5\n",
      "dtype: int64\n"
     ]
    }
   ],
   "source": [
    "c = pd.Series([1,2,3,4,5],index=[\"c\",\"b\",\"d\",\"a\",\"e\"])\n",
    "print(c)"
   ]
  },
  {
   "cell_type": "code",
   "execution_count": 85,
   "id": "3286b449-e8d6-433c-9efd-2156ac7f565c",
   "metadata": {},
   "outputs": [
    {
     "name": "stdout",
     "output_type": "stream",
     "text": [
      "3\n"
     ]
    }
   ],
   "source": [
    "print(c[\"d\"])"
   ]
  },
  {
   "cell_type": "code",
   "execution_count": 91,
   "id": "946086c6-dee4-416b-a4cc-e755d2b9ad5d",
   "metadata": {},
   "outputs": [
    {
     "name": "stdout",
     "output_type": "stream",
     "text": [
      "a    0\n",
      "b    1\n",
      "c    2\n",
      "dtype: int64\n"
     ]
    }
   ],
   "source": [
    "import numpy as np\n",
    "import pandas as pd\n",
    "data = {'a':0,'b':1,'c':2}\n",
    "d = pd.Series(data)\n",
    "print(d)"
   ]
  },
  {
   "cell_type": "code",
   "execution_count": 93,
   "id": "1b53d7e2-5416-4439-84a7-cd9777713276",
   "metadata": {},
   "outputs": [
    {
     "name": "stdout",
     "output_type": "stream",
     "text": [
      "     name  marks  age      cast\n",
      "0    Asad     45   21    Merani\n",
      "1   Hanan     50   20  Choudary\n",
      "2  Shoaib     47   21    Baloch\n"
     ]
    }
   ],
   "source": [
    "dict = {\n",
    "    'name':['Asad', 'Hanan', 'Shoaib'],\n",
    "    'marks':[45, 50, 47],\n",
    "    'age':[21,20,21],\n",
    "    'cast':['Merani', 'Choudary', 'Baloch']\n",
    "}\n",
    "\n",
    "df = pd.DataFrame(dict)\n",
    "print(df)"
   ]
  },
  {
   "cell_type": "code",
   "execution_count": 95,
   "id": "b05f0633-c163-4ac9-9ce2-d3f560d5fc54",
   "metadata": {},
   "outputs": [
    {
     "name": "stdout",
     "output_type": "stream",
     "text": [
      "0    3\n",
      "1    3\n",
      "2    3\n",
      "3    3\n",
      "dtype: int64\n"
     ]
    }
   ],
   "source": [
    "f = pd.Series(3,index = [0,1,2,3])\n",
    "print(f)"
   ]
  }
 ],
 "metadata": {
  "kernelspec": {
   "display_name": "Python 3 (ipykernel)",
   "language": "python",
   "name": "python3"
  },
  "language_info": {
   "codemirror_mode": {
    "name": "ipython",
    "version": 3
   },
   "file_extension": ".py",
   "mimetype": "text/x-python",
   "name": "python",
   "nbconvert_exporter": "python",
   "pygments_lexer": "ipython3",
   "version": "3.12.4"
  }
 },
 "nbformat": 4,
 "nbformat_minor": 5
}
