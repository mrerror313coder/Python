{
 "cells": [
  {
   "cell_type": "markdown",
   "id": "cac4133a-8893-440f-8658-4aca3ea91bf9",
   "metadata": {
    "jp-MarkdownHeadingCollapsed": true
   },
   "source": [
    "# Creating NumPy Arrays"
   ]
  },
  {
   "cell_type": "markdown",
   "id": "dcda81b8-ad94-4a43-9be1-9c2d90707b96",
   "metadata": {},
   "source": [
    "# Arrays"
   ]
  },
  {
   "cell_type": "code",
   "execution_count": null,
   "id": "79b218eb-bdb1-4fb8-8c17-f04f2c28ef9e",
   "metadata": {},
   "outputs": [
    {
     "name": "stdout",
     "output_type": "stream",
     "text": [
      "[1 2 3 4]\n",
      "<class 'numpy.ndarray'>\n",
      "1\n"
     ]
    }
   ],
   "source": [
    "import numpy as np\n",
    "x =[1, 2, 3, 4]\n",
    "y = np.array(x)\n",
    "print(y)\n",
    "print(type(y)) \n",
    "print(y.ndim) # Used for find dimension of the Array."
   ]
  },
  {
   "cell_type": "code",
   "execution_count": null,
   "id": "042ed7b5-f21a-43d6-b7f0-2fd7115ebe77",
   "metadata": {},
   "outputs": [],
   "source": [
    "l = []\n",
    "for i in range(1,5):\n",
    "    a = int(input(\"Enter Element : \"))\n",
    "    l.append(a)\n",
    "print(np.array(l))\n",
    "    "
   ]
  },
  {
   "cell_type": "code",
   "execution_count": null,
   "id": "a2a647c3-d1fc-42c0-ba7c-6b99b63de00d",
   "metadata": {},
   "outputs": [
    {
     "name": "stdout",
     "output_type": "stream",
     "text": [
      "[[1 2 3 4]\n",
      " [5 2 4 9]]\n",
      "2\n"
     ]
    }
   ],
   "source": [
    "ar2 = np.array([[1, 2, 3, 4],[5, 2, 4, 9]])\n",
    "print(ar2)\n",
    "print(ar2.ndim)"
   ]
  },
  {
   "cell_type": "code",
   "execution_count": null,
   "id": "6928f791-b676-4bd2-a7fb-14c683fe4b77",
   "metadata": {},
   "outputs": [
    {
     "name": "stdout",
     "output_type": "stream",
     "text": [
      "[[[1 2 3]\n",
      "  [4 5 6]\n",
      "  [7 8 9]]]\n",
      "3\n"
     ]
    }
   ],
   "source": [
    "arr3 = np.array([[[1, 2, 3],[4, 5, 6], [7, 8, 9]]])\n",
    "print(arr3)\n",
    "print(arr3.ndim)"
   ]
  },
  {
   "cell_type": "code",
   "execution_count": null,
   "id": "b5576310-b097-4799-b6b4-db6f63f69310",
   "metadata": {},
   "outputs": [
    {
     "name": "stdout",
     "output_type": "stream",
     "text": [
      "[[[[[[[[[[3 1 3]]]]]]]]]]\n",
      "10\n"
     ]
    }
   ],
   "source": [
    "a = np.array([3, 1, 3], ndmin=10)   # ndmin use for give the value of Dimension.\n",
    "print(a)\n",
    "print(a.ndim)"
   ]
  },
  {
   "cell_type": "markdown",
   "id": "cc6e8310-f701-4eaa-85c4-6db255c2d897",
   "metadata": {},
   "source": [
    "# Zeros"
   ]
  },
  {
   "cell_type": "code",
   "execution_count": null,
   "id": "22875cec-010f-40cf-9593-92fc578c8dd7",
   "metadata": {},
   "outputs": [
    {
     "name": "stdout",
     "output_type": "stream",
     "text": [
      "[0. 0. 0. 0.]\n"
     ]
    }
   ],
   "source": [
    "ar_zero = np.zeros(4)\n",
    "print(ar_zero)"
   ]
  },
  {
   "cell_type": "code",
   "execution_count": null,
   "id": "bc7dcfef-ff00-456c-90d5-d4989430c91e",
   "metadata": {},
   "outputs": [
    {
     "name": "stdout",
     "output_type": "stream",
     "text": [
      "[[0. 0.]\n",
      " [0. 0.]\n",
      " [0. 0.]]\n",
      "2\n"
     ]
    }
   ],
   "source": [
    "ar_zeros2d = np.zeros((3,2))\n",
    "print(ar_zeros2d)\n",
    "print(ar_zeros2d.ndim)\n"
   ]
  },
  {
   "cell_type": "markdown",
   "id": "b8e799c1-d060-4bbb-9235-1c1dfb105638",
   "metadata": {},
   "source": [
    "# Ones"
   ]
  },
  {
   "cell_type": "code",
   "execution_count": null,
   "id": "90cadd3d-6c31-4ffd-b8fe-e66b6335ef90",
   "metadata": {},
   "outputs": [
    {
     "name": "stdout",
     "output_type": "stream",
     "text": [
      "[1. 1. 1. 1. 1.]\n",
      "1\n"
     ]
    }
   ],
   "source": [
    "ar_one = np.ones(5)\n",
    "print(ar_one)\n",
    "print(ar_one.ndim)"
   ]
  },
  {
   "cell_type": "markdown",
   "id": "75450a1c-9814-41f0-8c5c-3c32f0d5fa34",
   "metadata": {},
   "source": [
    "# Empty"
   ]
  },
  {
   "cell_type": "code",
   "execution_count": null,
   "id": "5d8bf740-ff99-4c2f-b126-c8fcb1cb3bd4",
   "metadata": {},
   "outputs": [
    {
     "name": "stdout",
     "output_type": "stream",
     "text": [
      "[0. 0. 0. 0.]\n",
      "1\n"
     ]
    }
   ],
   "source": [
    "ar_emp = np.empty(4)\n",
    "print(ar_emp)\n",
    "print(ar_emp.ndim)"
   ]
  },
  {
   "cell_type": "markdown",
   "id": "6a0902a9-856b-4a80-9950-d292794c5513",
   "metadata": {},
   "source": [
    "# Range"
   ]
  },
  {
   "cell_type": "code",
   "execution_count": null,
   "id": "ddf3605f-b66f-4761-936d-65b6da00322e",
   "metadata": {},
   "outputs": [
    {
     "name": "stdout",
     "output_type": "stream",
     "text": [
      "[0 1 2 3]\n"
     ]
    }
   ],
   "source": [
    "ar_rn = np.arange(4)\n",
    "print(ar_rn)"
   ]
  },
  {
   "cell_type": "markdown",
   "id": "95163e13-98a8-42fb-af21-d748727313d5",
   "metadata": {},
   "source": [
    "# Diagonal"
   ]
  },
  {
   "cell_type": "code",
   "execution_count": 6,
   "id": "7ea77893-7b1c-41ca-af4b-61300e9e82ea",
   "metadata": {},
   "outputs": [
    {
     "name": "stdout",
     "output_type": "stream",
     "text": [
      "[[1. 0. 0. 0. 0.]\n",
      " [0. 1. 0. 0. 0.]\n",
      " [0. 0. 1. 0. 0.]\n",
      " [0. 0. 0. 1. 0.]\n",
      " [0. 0. 0. 0. 1.]]\n"
     ]
    }
   ],
   "source": [
    "import numpy as np\n",
    "ar_dia = np.eye(5)   # eye() used for diagonal value.\n",
    "print(ar_dia)"
   ]
  },
  {
   "cell_type": "code",
   "execution_count": null,
   "id": "f999b29a-7ec2-4f82-9d9b-edbfa36ece60",
   "metadata": {},
   "outputs": [
    {
     "name": "stdout",
     "output_type": "stream",
     "text": [
      "[[1. 0. 0. 0. 0.]\n",
      " [0. 1. 0. 0. 0.]\n",
      " [0. 0. 1. 0. 0.]]\n"
     ]
    }
   ],
   "source": [
    "ar_dia = np.eye(3,5)   # eye() used for diagonal value.\n",
    "print(ar_dia)"
   ]
  },
  {
   "cell_type": "markdown",
   "id": "7a26e320-998c-4416-8889-1abd0eaca93e",
   "metadata": {},
   "source": [
    "# LineSapce"
   ]
  },
  {
   "cell_type": "code",
   "execution_count": null,
   "id": "6e01d4bc-0f33-4422-b52d-73d9bcec082a",
   "metadata": {},
   "outputs": [
    {
     "name": "stdout",
     "output_type": "stream",
     "text": [
      "[ 0.  5. 10. 15. 20.]\n"
     ]
    }
   ],
   "source": [
    "ar_lin = np.linspace(0,20,num=5)\n",
    "print(ar_lin)"
   ]
  },
  {
   "cell_type": "markdown",
   "id": "0014de48-c695-4bab-b0c2-f2751d3c80a8",
   "metadata": {
    "jp-MarkdownHeadingCollapsed": true
   },
   "source": [
    "# Creating NumPy Array With Random Number"
   ]
  },
  {
   "cell_type": "markdown",
   "id": "5e39465c-8c5f-46e4-abe0-6bbb5cd5da7d",
   "metadata": {},
   "source": [
    "# Random"
   ]
  },
  {
   "cell_type": "markdown",
   "id": "a291a1f6-3133-412c-ae77-ad09af68a758",
   "metadata": {},
   "source": [
    "## rand()"
   ]
  },
  {
   "cell_type": "code",
   "execution_count": null,
   "id": "687ce805-79ba-4afa-93ac-ce6a01ed945e",
   "metadata": {},
   "outputs": [
    {
     "name": "stdout",
     "output_type": "stream",
     "text": [
      "[0.9757153  0.68687066 0.66889849 0.01991453]\n"
     ]
    }
   ],
   "source": [
    "import numpy as np\n",
    "var = np.random.rand(4)\n",
    "print(var)"
   ]
  },
  {
   "cell_type": "code",
   "execution_count": null,
   "id": "27458697-d506-44e6-8f42-7fa3bcbc0959",
   "metadata": {},
   "outputs": [
    {
     "name": "stdout",
     "output_type": "stream",
     "text": [
      "[[0.92802243 0.70174574 0.59073852 0.26081237 0.03916476]\n",
      " [0.79588833 0.81963372 0.68555104 0.35492349 0.22285982]]\n"
     ]
    }
   ],
   "source": [
    "#[0.9757153  0.68687066 0.66889849 0.01991453]\n",
    "var1 = np.random.rand(2,5)\n",
    "print(var1)"
   ]
  },
  {
   "cell_type": "markdown",
   "id": "b0c090bf-b759-4cfe-90a7-a379526f0cf6",
   "metadata": {},
   "source": [
    "## randn()"
   ]
  },
  {
   "cell_type": "code",
   "execution_count": null,
   "id": "ee33f24b-4fb1-4d0a-b23e-c0f9932d0d7e",
   "metadata": {},
   "outputs": [
    {
     "name": "stdout",
     "output_type": "stream",
     "text": [
      "[ 1.69094054  1.86526873 -1.01650725  1.17102752  0.46874968]\n"
     ]
    }
   ],
   "source": [
    "import numpy as np\n",
    "var = np.random.randn(5)\n",
    "print(var)"
   ]
  },
  {
   "cell_type": "markdown",
   "id": "c582dbdb-37aa-4cc7-aa9e-ae4f22a15e88",
   "metadata": {},
   "source": [
    "## ranf()"
   ]
  },
  {
   "cell_type": "code",
   "execution_count": null,
   "id": "6b9c67bc-7b86-474c-9f83-c7119f23830a",
   "metadata": {},
   "outputs": [
    {
     "name": "stdout",
     "output_type": "stream",
     "text": [
      "[0.0090898  0.16754649 0.24525491 0.22728081]\n"
     ]
    }
   ],
   "source": [
    "var3 = np.random.ranf(4)\n",
    "print(var3)"
   ]
  },
  {
   "cell_type": "markdown",
   "id": "54c487db-b00a-4ede-9e5f-faf91a729ff6",
   "metadata": {},
   "source": [
    "## randint()"
   ]
  },
  {
   "cell_type": "code",
   "execution_count": null,
   "id": "f3f38625-deca-4a9b-b523-b81c922eb57e",
   "metadata": {},
   "outputs": [
    {
     "name": "stdout",
     "output_type": "stream",
     "text": [
      "[14 11  7 11  9]\n"
     ]
    }
   ],
   "source": [
    "var4 = np.random.randint(5,20,5)  # m in value, max value, total value\n",
    "print(var4)"
   ]
  },
  {
   "cell_type": "markdown",
   "id": "a59e5454-0b89-4cc3-8700-502c58152eb8",
   "metadata": {},
   "source": [
    "# DATA TYPES"
   ]
  },
  {
   "cell_type": "code",
   "execution_count": null,
   "id": "8bb98f1b-c7f7-4493-87de-9c9be5ce7828",
   "metadata": {},
   "outputs": [
    {
     "name": "stdout",
     "output_type": "stream",
     "text": [
      "[1 2 3 4]\n",
      "Data Type :  int32\n"
     ]
    }
   ],
   "source": [
    "import numpy as np\n",
    "var = np.array([1, 2, 3, 4])\n",
    "print(var)\n",
    "print(\"Data Type : \",var.dtype)"
   ]
  },
  {
   "cell_type": "code",
   "execution_count": null,
   "id": "a4fbe2f7-f6cd-41be-b889-8bf19cb99e0b",
   "metadata": {},
   "outputs": [
    {
     "name": "stdout",
     "output_type": "stream",
     "text": [
      "[1.3 2.7 3.2 4. ]\n",
      "Data Type :  float64\n"
     ]
    }
   ],
   "source": [
    "var = np.array([1.3, 2.7, 3.2, 4.0])\n",
    "print(var)\n",
    "print(\"Data Type : \",var.dtype)"
   ]
  },
  {
   "cell_type": "code",
   "execution_count": null,
   "id": "55abd421-a58c-4cc0-a563-f540ddd84bd8",
   "metadata": {},
   "outputs": [
    {
     "name": "stdout",
     "output_type": "stream",
     "text": [
      "['E' 'R' 'R' 'O' 'R']\n",
      "Data Type :  <U1\n"
     ]
    }
   ],
   "source": [
    "var = np.array([\"E\", \"R\", \"R\", \"O\", \"R\"])\n",
    "print(var)\n",
    "print(\"Data Type : \",var.dtype)"
   ]
  },
  {
   "cell_type": "code",
   "execution_count": null,
   "id": "ddf61f9c-2fa3-4e68-a9bb-70827855f688",
   "metadata": {},
   "outputs": [
    {
     "name": "stdout",
     "output_type": "stream",
     "text": [
      "['E' 'R' 'R' 'O' 'R' '3' '1' '3']\n",
      "Data Type :  <U11\n"
     ]
    }
   ],
   "source": [
    "var = np.array([\"E\", \"R\", \"R\", \"O\", \"R\", 3, 1, 3])\n",
    "print(var)\n",
    "print(\"Data Type : \",var.dtype)"
   ]
  },
  {
   "cell_type": "code",
   "execution_count": null,
   "id": "4f3d9d82-4fdf-43be-93e8-8c3c1b65cd76",
   "metadata": {},
   "outputs": [
    {
     "name": "stdout",
     "output_type": "stream",
     "text": [
      "[3 1 3]\n",
      "Data Type :  int32\n"
     ]
    }
   ],
   "source": [
    "x = np.array([3, 1, 3])\n",
    "print(x)\n",
    "print(\"Data Type : \",x.dtype)"
   ]
  },
  {
   "cell_type": "code",
   "execution_count": null,
   "id": "a6542772-d999-440d-8ecf-0e3b35e48603",
   "metadata": {},
   "outputs": [
    {
     "name": "stdout",
     "output_type": "stream",
     "text": [
      "[3 1 3]\n",
      "Data Type :  int8\n"
     ]
    }
   ],
   "source": [
    "x = np.array([3, 1, 3], dtype = np.int8)\n",
    "print(x)\n",
    "print(\"Data Type : \",x.dtype)"
   ]
  },
  {
   "cell_type": "code",
   "execution_count": null,
   "id": "31567bbd-c020-4b94-9404-034522addc86",
   "metadata": {},
   "outputs": [
    {
     "name": "stdout",
     "output_type": "stream",
     "text": [
      "[3. 1. 3.]\n",
      "Data Type :  float32\n"
     ]
    }
   ],
   "source": [
    "x = np.array([3, 1, 3], dtype =\"f\")\n",
    "print(x)\n",
    "print(\"Data Type : \",x.dtype)"
   ]
  },
  {
   "cell_type": "code",
   "execution_count": null,
   "id": "f996fa53-3408-4a14-9d80-6e91c7e63504",
   "metadata": {},
   "outputs": [
    {
     "name": "stdout",
     "output_type": "stream",
     "text": [
      "[3 1 3]\n",
      "[3. 1. 3.]\n",
      "Data Type :  int32\n",
      "Data Type :  float32\n"
     ]
    }
   ],
   "source": [
    "import numpy as np\n",
    "x = np.array([3, 1, 3])\n",
    "new = np.float32(x)\n",
    "print(x)\n",
    "print(new)\n",
    "print(\"Data Type : \",x.dtype)\n",
    "print(\"Data Type : \",new.dtype)"
   ]
  },
  {
   "cell_type": "code",
   "execution_count": null,
   "id": "8c85b778-947d-4072-a945-57b40be8d3f3",
   "metadata": {},
   "outputs": [
    {
     "name": "stdout",
     "output_type": "stream",
     "text": [
      "[3 1 3]\n",
      "[3. 1. 3.]\n",
      "[3 1 3]\n",
      "Data Type :  int32\n",
      "Data Type :  float32\n",
      "Data Type :  int32\n"
     ]
    }
   ],
   "source": [
    "x = np.array([3, 1, 3])\n",
    "new = np.float32(x)\n",
    "new1 = np.int_(new)\n",
    "print(x)\n",
    "print(new)\n",
    "print(new1)\n",
    "print(\"Data Type : \",x.dtype)\n",
    "print(\"Data Type : \",new.dtype)\n",
    "print(\"Data Type : \",new1.dtype)"
   ]
  },
  {
   "cell_type": "code",
   "execution_count": null,
   "id": "f897584b-bb9c-48c5-8ab2-157903d0a20f",
   "metadata": {},
   "outputs": [
    {
     "name": "stdout",
     "output_type": "stream",
     "text": [
      "[3 1 3]\n",
      "[3. 1. 3.]\n",
      "Data Type :  int32\n",
      "Data Type :  float64\n"
     ]
    }
   ],
   "source": [
    "x = np.array([3, 1, 3])\n",
    "new = x.astype(float)\n",
    "print(x)\n",
    "print(new)\n",
    "print(\"Data Type : \",x.dtype)\n",
    "print(\"Data Type : \",new.dtype)"
   ]
  },
  {
   "cell_type": "markdown",
   "id": "1404c0b8-5b02-4869-aef8-271379314d55",
   "metadata": {},
   "source": [
    "# Arithmetic Operations"
   ]
  },
  {
   "cell_type": "markdown",
   "id": "bafc536b-5fff-4b9e-92a4-27284d900268",
   "metadata": {},
   "source": [
    "## 1D Array"
   ]
  },
  {
   "cell_type": "code",
   "execution_count": null,
   "id": "edf0c2d9-5053-423b-9189-3e96de6505a5",
   "metadata": {},
   "outputs": [
    {
     "name": "stdout",
     "output_type": "stream",
     "text": [
      "[4 5 6 7]\n"
     ]
    }
   ],
   "source": [
    "import numpy as np\n",
    "var = np.array([1, 2, 3, 4])\n",
    "var_add = var+ 3\n",
    "print(var_add)"
   ]
  },
  {
   "cell_type": "code",
   "execution_count": null,
   "id": "bccc6436-39ef-44d2-87f5-9060eec7a7a8",
   "metadata": {},
   "outputs": [
    {
     "name": "stdout",
     "output_type": "stream",
     "text": [
      "[2 4 6 8]\n"
     ]
    }
   ],
   "source": [
    "var1 = np.array([1, 2, 3, 4])\n",
    "var2 = np.array([1, 2, 3, 4])\n",
    "var_add = var1 + var2\n",
    "print(var_add)"
   ]
  },
  {
   "cell_type": "code",
   "execution_count": null,
   "id": "23d99c3e-12bc-45cb-a0d3-d910565b8f48",
   "metadata": {},
   "outputs": [
    {
     "name": "stdout",
     "output_type": "stream",
     "text": [
      "[-2 -1  0  1]\n"
     ]
    }
   ],
   "source": [
    "var = np.array([1, 2, 3, 4])\n",
    "var_sub = var- 3\n",
    "print(var_sub)"
   ]
  },
  {
   "cell_type": "code",
   "execution_count": null,
   "id": "1505c397-446a-4c60-81a6-bf565eed372d",
   "metadata": {},
   "outputs": [
    {
     "name": "stdout",
     "output_type": "stream",
     "text": [
      "[2 4 6 8]\n"
     ]
    }
   ],
   "source": [
    "var1 = np.array([1, 2, 3, 4])\n",
    "var2 = np.array([1, 2, 3, 4])\n",
    "var_add = np.add(var1, var2)\n",
    "print(var_add)"
   ]
  },
  {
   "cell_type": "markdown",
   "id": "cdc2996e-ee83-4f44-8390-01bff2e3f406",
   "metadata": {},
   "source": [
    "## 2D Array"
   ]
  },
  {
   "cell_type": "code",
   "execution_count": null,
   "id": "7e417ab1-453b-4a8e-b0b9-980dffea74e7",
   "metadata": {},
   "outputs": [
    {
     "name": "stdout",
     "output_type": "stream",
     "text": [
      "Sum of va1 and var2 is :  [[ 6  5  5]\n",
      " [11 14 14]]\n",
      "\n",
      "Product of var1 and var2 is :  [[ 5  6  6]\n",
      " [28 45 48]]\n",
      "\n",
      "Reciprocal of var1 is : [[1 0 0]\n",
      " [0 0 0]]\n"
     ]
    }
   ],
   "source": [
    "var1 = np.array([[1, 2, 3],[4, 5, 6]])\n",
    "var2 = np.array([[5, 3, 2],[7, 9, 8]])\n",
    "ans = np.add(var1,var2)\n",
    "ans1 = np.multiply(var1,var2)\n",
    "ans3 = np.reciprocal(var1)\n",
    "print(\"Sum of va1 and var2 is : \",ans)\n",
    "print()\n",
    "print(\"Product of var1 and var2 is : \",ans1)\n",
    "print()\n",
    "print(\"Reciprocal of var1 is :\",ans3)"
   ]
  },
  {
   "cell_type": "markdown",
   "id": "0dd0fbc5-02f9-4ee4-b13a-4827538161a9",
   "metadata": {},
   "source": [
    "# Arithmetic Functions"
   ]
  },
  {
   "cell_type": "code",
   "execution_count": null,
   "id": "25424bb1-acd1-482e-bc53-fd9cde6497b8",
   "metadata": {},
   "outputs": [
    {
     "name": "stdout",
     "output_type": "stream",
     "text": [
      "Maximum value is :  9  At position index :  3\n",
      "Minimum value is :  2  At position index :  2\n"
     ]
    }
   ],
   "source": [
    "var1 = np.array([3, 5, 2, 9, 8, 4])\n",
    "print(\"Maximum value is : \",np.max(var1),\" At position index : \",np.argmax(var1))\n",
    "print(\"Minimum value is : \",np.min(var1),\" At position index : \",np.argmin(var1))"
   ]
  },
  {
   "cell_type": "code",
   "execution_count": null,
   "id": "08c7f6f3-df56-4d0a-8f11-d485ce9001f6",
   "metadata": {},
   "outputs": [
    {
     "name": "stdout",
     "output_type": "stream",
     "text": [
      "[1 3]\n",
      "[9 8]\n",
      "[2 1 6]\n",
      "[8 3 9]\n"
     ]
    }
   ],
   "source": [
    "var1 = np.array([[2,1,9],[8,3,6]])\n",
    "print(np.min(var1, axis=1))\n",
    "print(np.max(var1, axis=1))\n",
    "print(np.min(var1, axis=0))\n",
    "print(np.max(var1, axis=0))"
   ]
  },
  {
   "cell_type": "code",
   "execution_count": null,
   "id": "44b692a9-0ffd-41fa-829f-ee3a9c4ecc44",
   "metadata": {},
   "outputs": [
    {
     "name": "stdout",
     "output_type": "stream",
     "text": [
      "[4.         5.         3.46410162 3.         2.82842712 2.        ]\n"
     ]
    }
   ],
   "source": [
    "var1 = np.array([16, 25, 12, 9, 8, 4])\n",
    "print(np.sqrt(var1))"
   ]
  },
  {
   "cell_type": "code",
   "execution_count": null,
   "id": "8f947cb4-8a26-44ae-81bf-3d56cdcbd496",
   "metadata": {},
   "outputs": [
    {
     "name": "stdout",
     "output_type": "stream",
     "text": [
      "[0.84147098 0.90929743 0.14112001]\n",
      "[ 0.54030231 -0.41614684 -0.9899925 ]\n"
     ]
    }
   ],
   "source": [
    "var2 = np.array([1, 2, 3])\n",
    "print(np.sin(var2))\n",
    "print(np.cos(var2))"
   ]
  },
  {
   "cell_type": "code",
   "execution_count": null,
   "id": "f5d0a8e7-2974-4b76-94f4-6bcabf649e42",
   "metadata": {},
   "outputs": [
    {
     "name": "stdout",
     "output_type": "stream",
     "text": [
      "[ 1  3  6 10]\n"
     ]
    }
   ],
   "source": [
    "var3 = np.array([1, 2, 3, 4])\n",
    "print(np.cumsum(var3))"
   ]
  },
  {
   "cell_type": "markdown",
   "id": "655a1cd3-fafb-4622-ab0f-db6c073d0d26",
   "metadata": {},
   "source": [
    "# Shape And Reshaping"
   ]
  },
  {
   "cell_type": "markdown",
   "id": "c79a99d8-b8af-42b2-bc38-7ef6f04a7b5f",
   "metadata": {},
   "source": [
    "## Shape"
   ]
  },
  {
   "cell_type": "code",
   "execution_count": null,
   "id": "cef91e84-c4e2-43e7-aaa8-386b8045aef0",
   "metadata": {},
   "outputs": [
    {
     "name": "stdout",
     "output_type": "stream",
     "text": [
      "[[1 2 3 4]\n",
      " [1 2 3 4]]\n",
      "\n",
      "(2, 4)\n"
     ]
    }
   ],
   "source": [
    "import numpy as np\n",
    "var = np.array([[1,2,3,4],[1,2,3,4]])\n",
    "print(var)\n",
    "print()\n",
    "print(var.shape)"
   ]
  },
  {
   "cell_type": "code",
   "execution_count": null,
   "id": "d2631cb0-5741-4ac5-954d-e10dfbb3e8f0",
   "metadata": {},
   "outputs": [
    {
     "name": "stdout",
     "output_type": "stream",
     "text": [
      "[[[[1 2 3 4]]]]\n",
      "4\n",
      "\n",
      "(1, 1, 1, 4)\n"
     ]
    }
   ],
   "source": [
    "var1 = np.array([1,2,3,4], ndmin=4)\n",
    "print(var1)\n",
    "print(var1.ndim)  # ndim used for size of Array.\n",
    "print()\n",
    "print(var1.shape)"
   ]
  },
  {
   "cell_type": "markdown",
   "id": "2241ad1a-ab2f-47e0-8b62-2d17d073ffef",
   "metadata": {},
   "source": [
    "## Reshape"
   ]
  },
  {
   "cell_type": "code",
   "execution_count": null,
   "id": "d4c0a6bd-4ce6-4f0a-ad07-5445ae72a549",
   "metadata": {},
   "outputs": [
    {
     "name": "stdout",
     "output_type": "stream",
     "text": [
      "[1 2 3 4 5 6]\n",
      "1\n",
      "\n",
      "[[1 2 3]\n",
      " [4 5 6]]\n",
      "2\n"
     ]
    }
   ],
   "source": [
    "var2 = np.array([1,2,3,4,5,6])\n",
    "print(var2)\n",
    "print(var2.ndim)\n",
    "x =var2.reshape(2,3)\n",
    "print()\n",
    "print(x)\n",
    "print(x.ndim)"
   ]
  },
  {
   "cell_type": "code",
   "execution_count": null,
   "id": "487faef7-405b-4818-8560-ea1ce720707a",
   "metadata": {},
   "outputs": [
    {
     "name": "stdout",
     "output_type": "stream",
     "text": [
      "[ 1  2  3  4  5  6  7  8  9 10 11 12]\n",
      "1\n",
      "\n",
      "[[[ 1]\n",
      "  [ 2]\n",
      "  [ 3]]\n",
      "\n",
      " [[ 4]\n",
      "  [ 5]\n",
      "  [ 6]]\n",
      "\n",
      " [[ 7]\n",
      "  [ 8]\n",
      "  [ 9]]\n",
      "\n",
      " [[10]\n",
      "  [11]\n",
      "  [12]]]\n",
      "3\n"
     ]
    }
   ],
   "source": [
    "var3 = np.array([1,2,3,4,5,6,7,8,9,10,11,12])\n",
    "print(var3)\n",
    "print(var3.ndim)\n",
    "x1 =var3.reshape(4,3,1)\n",
    "print()\n",
    "print(x1)\n",
    "print(x1.ndim)"
   ]
  },
  {
   "cell_type": "code",
   "execution_count": null,
   "id": "7054529e-bb67-404d-8688-9c30245fec16",
   "metadata": {},
   "outputs": [
    {
     "name": "stdout",
     "output_type": "stream",
     "text": [
      "[ 1  2  3  4  5  6  7  8  9 10 11 12]\n",
      "1\n"
     ]
    }
   ],
   "source": [
    "one = x1.reshape(-1)\n",
    "print(one)\n",
    "print(one.ndim)"
   ]
  },
  {
   "cell_type": "markdown",
   "id": "ede494e4-aeec-4d9c-8086-4dcca334c152",
   "metadata": {},
   "source": [
    "# BroadCasting"
   ]
  },
  {
   "cell_type": "markdown",
   "id": "bd3a1f7a-bedd-4c25-b7a4-430a3f60ee9e",
   "metadata": {},
   "source": [
    "## Rules for BroadCasting"
   ]
  },
  {
   "cell_type": "markdown",
   "id": "06188142-8069-4eab-8cd3-3ac2af3bf50e",
   "metadata": {},
   "source": [
    "### (1) Same Dimension.\n",
    "### (2) Different Dimension same values."
   ]
  },
  {
   "cell_type": "code",
   "execution_count": null,
   "id": "eaf8febd-f8c0-48ce-8c32-3bafb7f77df9",
   "metadata": {},
   "outputs": [
    {
     "name": "stdout",
     "output_type": "stream",
     "text": [
      "(4,)\n",
      "(4,)\n",
      "[2 4 6 8]\n"
     ]
    }
   ],
   "source": [
    "import numpy as np\n",
    "var1 = np.array([1,2,3,4])\n",
    "print(var1.shape)\n",
    "var2 = np.array([1,2,3,4])\n",
    "print(var2.shape)\n",
    "print(var1 + var2)"
   ]
  },
  {
   "cell_type": "code",
   "execution_count": null,
   "id": "98686cc3-8d4b-4d00-83a3-b0c24d7a4631",
   "metadata": {},
   "outputs": [
    {
     "name": "stdout",
     "output_type": "stream",
     "text": [
      "[1 2 3 4]\n",
      "(4,)\n",
      "\n",
      "[[1]\n",
      " [2]\n",
      " [3]\n",
      " [4]]\n",
      "(4, 1)\n",
      "\n",
      "[[2 3 4 5]\n",
      " [3 4 5 6]\n",
      " [4 5 6 7]\n",
      " [5 6 7 8]]\n"
     ]
    }
   ],
   "source": [
    "var3 = np.array([1,2,3,4])\n",
    "print(var3)\n",
    "print(var3.shape)\n",
    "print()\n",
    "var4 = np.array([[1],[2],[3],[4]])\n",
    "print(var4)\n",
    "print(var4.shape)\n",
    "print()\n",
    "print(var3 + var4)"
   ]
  },
  {
   "cell_type": "code",
   "execution_count": null,
   "id": "f4b1e497-8d2d-46ee-a7e6-cb2d19511233",
   "metadata": {},
   "outputs": [
    {
     "name": "stdout",
     "output_type": "stream",
     "text": [
      "(2, 1)\n",
      "(2, 3)\n",
      "\n",
      "[[2 3 4]\n",
      " [3 4 5]]\n"
     ]
    }
   ],
   "source": [
    "x = np.array([[1],[2]])\n",
    "print(x.shape)\n",
    "\n",
    "y = np.array([[1,2,3],[1,2,3]])\n",
    "print(y.shape)\n",
    "\n",
    "print()\n",
    "print(x+y)"
   ]
  },
  {
   "cell_type": "markdown",
   "id": "1cbe5166-44d6-4b5e-8275-9e872a96d04b",
   "metadata": {},
   "source": [
    "# Indexing And Slicing"
   ]
  },
  {
   "cell_type": "markdown",
   "id": "c5665390-4a08-4994-acd2-4632fc3fd12c",
   "metadata": {},
   "source": [
    "## Indexing"
   ]
  },
  {
   "cell_type": "code",
   "execution_count": null,
   "id": "548fe48c-2b5d-4db9-8327-a339aad51589",
   "metadata": {},
   "outputs": [
    {
     "name": "stdout",
     "output_type": "stream",
     "text": [
      "8\n",
      "8\n"
     ]
    }
   ],
   "source": [
    "import numpy as np\n",
    "var = np.array([9,8,7,6])\n",
    "print(var[1])\n",
    "print(var[-3])"
   ]
  },
  {
   "cell_type": "code",
   "execution_count": null,
   "id": "fb0bf5f5-3abc-4e20-901c-9cc126ad3358",
   "metadata": {},
   "outputs": [
    {
     "name": "stdout",
     "output_type": "stream",
     "text": [
      "[[9 8 7]\n",
      " [4 5 6]]\n",
      "2\n",
      "\n",
      "8\n"
     ]
    }
   ],
   "source": [
    "var1 = np.array([[9,8,7],[4,5,6]])\n",
    "print(var1)\n",
    "print(var1.ndim)\n",
    "print()\n",
    "print(var1[0,1])"
   ]
  },
  {
   "cell_type": "code",
   "execution_count": null,
   "id": "2a6a5cb7-fc72-4c15-a71b-ddab62106871",
   "metadata": {},
   "outputs": [
    {
     "name": "stdout",
     "output_type": "stream",
     "text": [
      "[[[1 2]\n",
      "  [6 7]]]\n",
      "3\n",
      "\n",
      "7\n"
     ]
    }
   ],
   "source": [
    "var2 = np.array([[[1,2],[6,7]]])\n",
    "print(var2)\n",
    "print(var2.ndim)\n",
    "print()\n",
    "print(var2[0,1,1])"
   ]
  },
  {
   "cell_type": "markdown",
   "id": "38a2d076-287f-4b1c-a2d3-6e91d0b6bcc4",
   "metadata": {},
   "source": [
    "## Slicing"
   ]
  },
  {
   "cell_type": "code",
   "execution_count": null,
   "id": "436ca08f-e2c1-4e3e-bfea-3453d195b991",
   "metadata": {},
   "outputs": [
    {
     "name": "stdout",
     "output_type": "stream",
     "text": [
      "[1 2 3 4 5 6 7]\n",
      "\n",
      "2 to 5 : [2 3 4 5]\n",
      "2 to End : [2 3 4 5 6 7]\n",
      "Start to 5 : [1 2 3 4 5]\n",
      "Start to End : [1 2 3 4 5 6 7]\n"
     ]
    }
   ],
   "source": [
    "import numpy as np\n",
    "var = np.array([1,2,3,4,5,6,7])\n",
    "print(var)\n",
    "print()\n",
    "print(f\"2 to 5 : {var[1:5]}\")\n",
    "print(f\"2 to End : {var[1:]}\")\n",
    "print(f\"Start to 5 : {var[:5]}\")\n",
    "print(f\"Start to End : {var[::]}\")"
   ]
  },
  {
   "cell_type": "markdown",
   "id": "24f42b24-fb74-4085-a1d9-454f9e7c0d94",
   "metadata": {},
   "source": [
    "# Iteration"
   ]
  },
  {
   "cell_type": "code",
   "execution_count": 6,
   "id": "470f4065-81e5-4b1a-a555-011827daa8e9",
   "metadata": {},
   "outputs": [
    {
     "name": "stdout",
     "output_type": "stream",
     "text": [
      "[9 8 7 6 5 4]\n",
      "9\n",
      "8\n",
      "7\n",
      "6\n",
      "5\n",
      "4\n"
     ]
    }
   ],
   "source": [
    "import numpy as np\n",
    "var = np.array([9,8,7,6,5,4])\n",
    "print(var)\n",
    "for i in var:\n",
    "    print(i)"
   ]
  },
  {
   "cell_type": "code",
   "execution_count": 14,
   "id": "f0b3ed1f-6c51-4e12-8f63-b8e7f21d715c",
   "metadata": {},
   "outputs": [
    {
     "name": "stdout",
     "output_type": "stream",
     "text": [
      "[[1 2 3 4]\n",
      " [1 2 3 4]]\n",
      "\n",
      "[1 2 3 4]\n",
      "[1 2 3 4]\n",
      "\n",
      "1\n",
      "2\n",
      "3\n",
      "4\n",
      "1\n",
      "2\n",
      "3\n",
      "4\n"
     ]
    }
   ],
   "source": [
    "var1 = np.array([[1,2,3,4],[1,2,3,4]])\n",
    "print(var1)\n",
    "print()\n",
    "for j in var1:\n",
    "    print(j)\n",
    "print()\n",
    "for k in var1:\n",
    "    for l in k:\n",
    "        print(l)"
   ]
  },
  {
   "cell_type": "code",
   "execution_count": 16,
   "id": "bee59eed-a834-4a64-9adc-fab9cb4bf91f",
   "metadata": {},
   "outputs": [
    {
     "name": "stdout",
     "output_type": "stream",
     "text": [
      "[[[1 2 3 4]\n",
      "  [1 2 3 4]]]\n",
      "\n",
      "3\n",
      "\n",
      "1\n",
      "2\n",
      "3\n",
      "4\n",
      "1\n",
      "2\n",
      "3\n",
      "4\n"
     ]
    }
   ],
   "source": [
    "var3 = np.array([[[1,2,3,4],[1,2,3,4]]])\n",
    "print(var3)\n",
    "print()\n",
    "print(var3.ndim)\n",
    "print()\n",
    "for i in var3:\n",
    "    for j in i:\n",
    "        for k in j:\n",
    "            print(k)"
   ]
  },
  {
   "cell_type": "code",
   "execution_count": 30,
   "id": "79a71823-6b60-43a1-92e9-74be401f259c",
   "metadata": {},
   "outputs": [
    {
     "name": "stdout",
     "output_type": "stream",
     "text": [
      "[[[9 8 7 6]\n",
      "  [1 2 3 4]]]\n",
      "\n",
      "3\n",
      "\n",
      "b'9'\n",
      "b'8'\n",
      "b'7'\n",
      "b'6'\n",
      "b'1'\n",
      "b'2'\n",
      "b'3'\n",
      "b'4'\n"
     ]
    }
   ],
   "source": [
    "var3 = np.array([[[9,8,7,6],[1,2,3,4]]])\n",
    "print(var3)\n",
    "print()\n",
    "print(var3.ndim)\n",
    "print()\n",
    "for i in np.nditer(var3,flags=['buffered'],op_dtypes=['S']):\n",
    "    print(i)"
   ]
  },
  {
   "cell_type": "code",
   "execution_count": 32,
   "id": "615c6e88-8640-4763-b98d-419dc621ebbb",
   "metadata": {},
   "outputs": [
    {
     "name": "stdout",
     "output_type": "stream",
     "text": [
      "[[[9 8 7 6]\n",
      "  [1 2 3 4]]]\n",
      "\n",
      "3\n",
      "\n",
      "9\n",
      "8\n",
      "7\n",
      "6\n",
      "1\n",
      "2\n",
      "3\n",
      "4\n"
     ]
    }
   ],
   "source": [
    "var3 = np.array([[[9,8,7,6],[1,2,3,4]]])\n",
    "print(var3)\n",
    "print()\n",
    "print(var3.ndim)\n",
    "print()\n",
    "for i in np.nditer(var3):\n",
    "    print(i)"
   ]
  },
  {
   "cell_type": "code",
   "execution_count": 40,
   "id": "2698b7d6-a2a4-40a7-8e0c-14b8a3de14ea",
   "metadata": {},
   "outputs": [
    {
     "name": "stdout",
     "output_type": "stream",
     "text": [
      "[[[9 8 7 6]\n",
      "  [1 2 3 4]]]\n",
      "\n",
      "3\n",
      "\n",
      "(0, 0, 0) 9\n",
      "(0, 0, 1) 8\n",
      "(0, 0, 2) 7\n",
      "(0, 0, 3) 6\n",
      "(0, 1, 0) 1\n",
      "(0, 1, 1) 2\n",
      "(0, 1, 2) 3\n",
      "(0, 1, 3) 4\n"
     ]
    }
   ],
   "source": [
    "var3 = np.array([[[9,8,7,6],[1,2,3,4]]])\n",
    "print(var3)\n",
    "print()\n",
    "print(var3.ndim)\n",
    "print()\n",
    "for i,d in np.ndenumerate(var3):\n",
    "    print(i,d)"
   ]
  },
  {
   "cell_type": "markdown",
   "id": "df14a150-4fd7-4182-af6f-49a464d94324",
   "metadata": {},
   "source": [
    "# #Copy vs View"
   ]
  },
  {
   "cell_type": "code",
   "execution_count": 52,
   "id": "2ba88cf3-eaf0-4844-8804-b642f938464f",
   "metadata": {},
   "outputs": [
    {
     "name": "stdout",
     "output_type": "stream",
     "text": [
      "var :  [ 1 40  3  4]\n",
      "copy :  [1 2 3 4]\n"
     ]
    }
   ],
   "source": [
    "import numpy as np\n",
    "var = np.array([1,2,3,4])\n",
    "co = var.copy()\n",
    "var[1] = 40\n",
    "print(\"var : \",var)\n",
    "print(\"copy : \",co)"
   ]
  },
  {
   "cell_type": "code",
   "execution_count": 54,
   "id": "4b617e97-f453-487a-94de-f08f71e976d3",
   "metadata": {},
   "outputs": [
    {
     "name": "stdout",
     "output_type": "stream",
     "text": [
      "x :  [ 9 40  7  6]\n",
      "view :  [ 9 40  7  6]\n"
     ]
    }
   ],
   "source": [
    "x = np.array([9,8,7,6])\n",
    "vi = x.view()\n",
    "x[1] = 40\n",
    "print(\"x : \",x)\n",
    "print(\"view : \",vi)"
   ]
  },
  {
   "cell_type": "markdown",
   "id": "fdde32c2-680b-4432-b665-469ff8c21ce7",
   "metadata": {},
   "source": [
    "# Join AND Split Functions"
   ]
  },
  {
   "cell_type": "markdown",
   "id": "d10c77ec-a84b-4dae-81f2-69e6494b4937",
   "metadata": {},
   "source": [
    "## Join Array"
   ]
  },
  {
   "cell_type": "code",
   "execution_count": 58,
   "id": "f530375b-8107-4157-9ff9-82169290a9da",
   "metadata": {},
   "outputs": [
    {
     "name": "stdout",
     "output_type": "stream",
     "text": [
      "[1 2 3 4 9 8 7 6]\n"
     ]
    }
   ],
   "source": [
    "import numpy as np\n",
    "var = np.array([1,2,3,4])\n",
    "var1 = np.array([9,8,7,6])\n",
    "\n",
    "ar = np.concatenate((var,var1))\n",
    "print(ar)"
   ]
  },
  {
   "cell_type": "code",
   "execution_count": 76,
   "id": "1f2d4ffa-1f16-48c8-bdd8-d72ba14a11b1",
   "metadata": {},
   "outputs": [
    {
     "name": "stdout",
     "output_type": "stream",
     "text": [
      "[[1 2]\n",
      " [3 4]]\n",
      "\n",
      "[[9 8]\n",
      " [7 6]]\n",
      "\n",
      "[[1 2]\n",
      " [3 4]\n",
      " [9 8]\n",
      " [7 6]]\n",
      "\n",
      "[[1 2 9 8]\n",
      " [3 4 7 6]]\n"
     ]
    }
   ],
   "source": [
    "vr = np.array([[1,2],[3,4]])\n",
    "vr1 = np.array([[9,8],[7,6]])\n",
    "\n",
    "ar1_new = np.concatenate((vr,vr1),axis=0)\n",
    "ar_new = np.concatenate((vr,vr1),axis=1)\n",
    "print(vr)\n",
    "print()\n",
    "print(vr1)\n",
    "print()\n",
    "print(ar1_new)\n",
    "print()\n",
    "print(ar_new)"
   ]
  },
  {
   "cell_type": "code",
   "execution_count": 78,
   "id": "5ba216d9-8212-44fd-bb5d-2afba24fbf1c",
   "metadata": {},
   "outputs": [
    {
     "name": "stdout",
     "output_type": "stream",
     "text": [
      "[[1 9]\n",
      " [2 8]\n",
      " [3 7]\n",
      " [4 6]]\n"
     ]
    }
   ],
   "source": [
    "var_1 = np.array([1,2,3,4])\n",
    "var_2 = np.array([9,8,7,6])\n",
    "\n",
    "ar_new = np.stack((var_1,var_2), axis = 1)\n",
    "print(ar_new)"
   ]
  },
  {
   "cell_type": "code",
   "execution_count": 88,
   "id": "8c83e2d4-3290-41db-a3a6-483401c50513",
   "metadata": {},
   "outputs": [
    {
     "name": "stdout",
     "output_type": "stream",
     "text": [
      "[[1 9]\n",
      " [2 8]\n",
      " [3 7]\n",
      " [4 6]]\n",
      "\n",
      "[1 2 3 4 9 8 7 6]\n",
      "\n",
      "[[1 2 3 4]\n",
      " [9 8 7 6]]\n",
      "\n",
      "[[[1 9]\n",
      "  [2 8]\n",
      "  [3 7]\n",
      "  [4 6]]]\n",
      "\n"
     ]
    }
   ],
   "source": [
    "vr_1 = np.array([1,2,3,4])\n",
    "vr_2 = np.array([9,8,7,6])\n",
    "\n",
    "arr_new = np.stack((var_1,var_2), axis = 1)\n",
    "print(arr_new)\n",
    "print()\n",
    "arr_new1 = np.hstack((vr_1,vr_2))   # Row\n",
    "print(arr_new1)\n",
    "print()\n",
    "arr_new2 = np.vstack((vr_1,vr_2))  # Colums\n",
    "print(arr_new2)\n",
    "print()\n",
    "arr_new3 = np.dstack((vr_1,vr_2)) # Hight\n",
    "print(arr_new3)\n",
    "print()"
   ]
  },
  {
   "cell_type": "markdown",
   "id": "df7c9a8c-86b9-40b9-92f7-383dd52cd19b",
   "metadata": {},
   "source": [
    "## Split Array"
   ]
  },
  {
   "cell_type": "code",
   "execution_count": 113,
   "id": "498896bb-6bb8-46c5-b55e-68df74cdbbc6",
   "metadata": {},
   "outputs": [
    {
     "name": "stdout",
     "output_type": "stream",
     "text": [
      "[1 2 3 4 5 6]\n",
      "\n",
      "[array([1, 2]), array([3, 4]), array([5, 6])]\n",
      "<class 'list'>\n",
      "\n",
      "[1 2]\n"
     ]
    }
   ],
   "source": [
    "import numpy as np\n",
    "var = np.array([1,2,3,4,5,6])\n",
    "print(var)\n",
    "print()\n",
    "ar = np.array_split(var,3)\n",
    "print(ar)\n",
    "print(type(ar))\n",
    "print()\n",
    "print(ar[0])"
   ]
  },
  {
   "cell_type": "code",
   "execution_count": 121,
   "id": "07f3991b-00cb-4b58-b550-f6458159771e",
   "metadata": {},
   "outputs": [
    {
     "name": "stdout",
     "output_type": "stream",
     "text": [
      "[[1 2]\n",
      " [3 4]\n",
      " [5 6]]\n",
      "\n",
      "[array([[1, 2]]), array([[3, 4]]), array([[5, 6]])]\n",
      "<class 'list'>\n",
      "\n",
      "[array([[1],\n",
      "       [3],\n",
      "       [5]]), array([[2],\n",
      "       [4],\n",
      "       [6]]), array([], shape=(3, 0), dtype=int32)]\n",
      "<class 'list'>\n",
      "\n",
      "[[5 6]]\n"
     ]
    }
   ],
   "source": [
    "var1 = np.array([[1,2],[3,4],[5,6]])\n",
    "print(var1)\n",
    "print()\n",
    "ar1 = np.array_split(var1,3)\n",
    "ar2 = np.array_split(var1,3,axis = 1)\n",
    "print(ar1)\n",
    "print(type(ar1))\n",
    "print()\n",
    "print(ar2)\n",
    "print(type(ar2))\n",
    "print()\n",
    "print(ar1[2])"
   ]
  },
  {
   "cell_type": "markdown",
   "id": "a6ae85ac-d619-41b6-902e-b7de6ec410bf",
   "metadata": {},
   "source": [
    "# Search, Sort, Search Sorted, Filter"
   ]
  },
  {
   "cell_type": "markdown",
   "id": "c7b3da8b-f492-460f-a9a1-9557f4c12cc3",
   "metadata": {},
   "source": [
    "## Search"
   ]
  },
  {
   "cell_type": "code",
   "execution_count": 133,
   "id": "8c37e35a-b531-4164-9558-6ef28d2edaaf",
   "metadata": {},
   "outputs": [
    {
     "name": "stdout",
     "output_type": "stream",
     "text": [
      "(array([1, 4, 6], dtype=int64),)\n",
      "(array([1, 3, 4, 6, 8], dtype=int64),)\n",
      "(array([], dtype=int64),)\n"
     ]
    }
   ],
   "source": [
    "import numpy as np\n",
    "var = np.array([1,2,3,4,2,5,2,5,6,7])\n",
    "\n",
    "x = np.where(var == 2)\n",
    "print(x)\n",
    "y = np.where((var%2) == 0)\n",
    "print(y)\n",
    "z = np.where((var/2) == 0)\n",
    "print(z)"
   ]
  },
  {
   "cell_type": "code",
   "execution_count": 2,
   "id": "69d6a567-356f-47b8-be59-2e571d396bf8",
   "metadata": {},
   "outputs": [
    {
     "name": "stdout",
     "output_type": "stream",
     "text": [
      "1.26.4\n"
     ]
    }
   ],
   "source": [
    "import numpy as np\n",
    "print(np.__version__) "
   ]
  }
 ],
 "metadata": {
  "kernelspec": {
   "display_name": "Python 3 (ipykernel)",
   "language": "python",
   "name": "python3"
  },
  "language_info": {
   "codemirror_mode": {
    "name": "ipython",
    "version": 3
   },
   "file_extension": ".py",
   "mimetype": "text/x-python",
   "name": "python",
   "nbconvert_exporter": "python",
   "pygments_lexer": "ipython3",
   "version": "3.12.4"
  },
  "panel-cell-order": [
   "ef98d4bf-d2cd-4793-83c4-cd09029369af",
   "71f4c96c-d05a-4887-8fd1-2a534729842a"
  ]
 },
 "nbformat": 4,
 "nbformat_minor": 5
}
