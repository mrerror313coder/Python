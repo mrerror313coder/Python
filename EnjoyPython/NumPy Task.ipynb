{
 "cells": [
  {
   "cell_type": "markdown",
   "id": "b507799d-9ac0-443b-bd16-f42ec7e436d0",
   "metadata": {},
   "source": [
    "# Numpy Library Basics"
   ]
  },
  {
   "cell_type": "markdown",
   "id": "4bdf354f-4616-4b49-bf1f-54ef477beb44",
   "metadata": {},
   "source": [
    "### PART 1: "
   ]
  },
  {
   "cell_type": "markdown",
   "id": "df27346f-6340-4898-a1c9-6b7178c5075c",
   "metadata": {},
   "source": [
    "##### Create a 1D array of numbers from 0 to 9"
   ]
  },
  {
   "cell_type": "code",
   "execution_count": 17,
   "id": "985fa8d7-4766-4766-bcd9-7a28ddcb49b2",
   "metadata": {},
   "outputs": [
    {
     "name": "stdout",
     "output_type": "stream",
     "text": [
      "[0 9]\n"
     ]
    }
   ],
   "source": [
    "import numpy as np\n",
    "arr =  np.array()\n",
    "print(arr)"
   ]
  }
 ],
 "metadata": {
  "kernelspec": {
   "display_name": "Python 3 (ipykernel)",
   "language": "python",
   "name": "python3"
  },
  "language_info": {
   "codemirror_mode": {
    "name": "ipython",
    "version": 3
   },
   "file_extension": ".py",
   "mimetype": "text/x-python",
   "name": "python",
   "nbconvert_exporter": "python",
   "pygments_lexer": "ipython3",
   "version": "3.12.4"
  }
 },
 "nbformat": 4,
 "nbformat_minor": 5
}
