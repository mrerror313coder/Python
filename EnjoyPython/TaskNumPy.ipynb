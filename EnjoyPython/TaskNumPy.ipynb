{
 "cells": [
  {
   "cell_type": "markdown",
   "id": "d6e3822e-5395-444a-b3a8-a05c1cd6a8f4",
   "metadata": {},
   "source": [
    "# PART 1: "
   ]
  },
  {
   "cell_type": "markdown",
   "id": "f13ffebf-66f6-48ec-9a7a-ce26e177fe78",
   "metadata": {},
   "source": [
    "## Create a 1D array of numbers from 0 to 9"
   ]
  },
  {
   "cell_type": "code",
   "execution_count": 39,
   "id": "e1436357-817e-422b-b255-2efb856f1733",
   "metadata": {},
   "outputs": [
    {
     "name": "stdout",
     "output_type": "stream",
     "text": [
      "[0 1 2 3 4 5 6 7 8 9]\n"
     ]
    }
   ],
   "source": [
    "import numpy as np\n",
    "def function1():\n",
    "    arr = np.arange(10)\n",
    "    return arr \n",
    "print(function1())"
   ]
  },
  {
   "cell_type": "markdown",
   "id": "f143a90e-1765-4306-961d-32afb996afa7",
   "metadata": {},
   "source": [
    "## Extract all odd numbers from arr"
   ]
  },
  {
   "cell_type": "code",
   "execution_count": 43,
   "id": "8c3fed1d-e498-4952-8b25-5561f8f34120",
   "metadata": {},
   "outputs": [
    {
     "name": "stdout",
     "output_type": "stream",
     "text": [
      "[1 3 5 7 9]\n"
     ]
    }
   ],
   "source": [
    "def OddExtract():\n",
    "    arr=function1()\n",
    "    odd = arr[(arr%2!=0)]\n",
    "    return odd\n",
    "print(OddExtract())"
   ]
  },
  {
   "cell_type": "markdown",
   "id": "5e09610b-509d-4671-b3b8-ad46cac4de4f",
   "metadata": {},
   "source": [
    "## Replace all odd numbers in arr with -1"
   ]
  },
  {
   "cell_type": "code",
   "execution_count": 8,
   "id": "4c2e2b3c-0b59-4e3b-ba93-06cbc8eac40b",
   "metadata": {},
   "outputs": [
    {
     "name": "stdout",
     "output_type": "stream",
     "text": [
      "[ 0 -1  2 -1  4 -1  6 -1  8 -1]\n"
     ]
    }
   ],
   "source": [
    "def OddReplace():\n",
    "    arr=function1()\n",
    "    arr[(arr%2==1)]=-1\n",
    "    return arr\n",
    "print(OddReplace())    "
   ]
  },
  {
   "cell_type": "markdown",
   "id": "1ee38b50-8afd-4975-9c6c-e995af85386a",
   "metadata": {},
   "source": [
    "## convert it back"
   ]
  },
  {
   "cell_type": "code",
   "execution_count": 53,
   "id": "436f96d1-d3a0-4b12-b617-7d0e8027f500",
   "metadata": {},
   "outputs": [
    {
     "name": "stdout",
     "output_type": "stream",
     "text": [
      "[1 3 5 7 9]\n"
     ]
    }
   ],
   "source": [
    "arr = function1()\n",
    "odd_indices = np.where(arr%2!=0)[0]\n",
    "print(odd_indices)"
   ]
  },
  {
   "cell_type": "code",
   "execution_count": 10,
   "id": "ae68df99-d0e9-491c-ac27-574caa266ccb",
   "metadata": {},
   "outputs": [
    {
     "name": "stdout",
     "output_type": "stream",
     "text": [
      "[0 1 2 3 4 5 6 7 8 9]\n"
     ]
    }
   ],
   "source": [
    "def restoreOdd():\n",
    "    arr = function1()\n",
    "    odd_indices = np.where(arr%2!=0)[0]\n",
    "    x = OddReplace()\n",
    "    for i in odd_indices:\n",
    "        x[i]=arr[i]\n",
    "    return x\n",
    "print(restoreOdd())"
   ]
  },
  {
   "cell_type": "markdown",
   "id": "f709a45c-0fb6-442d-97f8-2180cda29167",
   "metadata": {},
   "source": [
    "## Convert a 1D array to a 2D array with 2 rows"
   ]
  },
  {
   "cell_type": "code",
   "execution_count": 55,
   "id": "5ebd946e-00d7-407a-8a06-d4b8abe216e8",
   "metadata": {},
   "outputs": [
    {
     "name": "stdout",
     "output_type": "stream",
     "text": [
      "[[0 1 2 3 4]\n",
      " [5 6 7 8 9]]\n"
     ]
    }
   ],
   "source": [
    "def OneDToTwoD():\n",
    "    return function1().reshape(2,5)\n",
    "print(OneDToTwoD())"
   ]
  },
  {
   "cell_type": "markdown",
   "id": "53a44eb8-c094-4034-a472-43e712b432da",
   "metadata": {},
   "source": [
    "## Stack arrays a and b vertically & Horizontally"
   ]
  },
  {
   "cell_type": "code",
   "execution_count": 57,
   "id": "2b62cdf1-58db-47da-a0a3-85ef8efd6b4a",
   "metadata": {},
   "outputs": [
    {
     "name": "stdout",
     "output_type": "stream",
     "text": [
      "[[0]\n",
      " [1]\n",
      " [2]\n",
      " [3]\n",
      " [4]\n",
      " [5]\n",
      " [6]\n",
      " [7]\n",
      " [8]\n",
      " [9]]\n",
      "\n",
      "[0 1 2 3 4 5 6 7 8 9]\n"
     ]
    }
   ],
   "source": [
    "def VerticalStack():\n",
    "    return np.vstack(function1())\n",
    "print(VerticalStack())\n",
    "print()\n",
    "def HorizantalStack():\n",
    "    return np.hstack(function1())\n",
    "print(HorizantalStack())"
   ]
  },
  {
   "cell_type": "markdown",
   "id": "f4378aa9-a63b-4ac8-99b8-4473fc0bcdb7",
   "metadata": {},
   "source": [
    "# Part 2"
   ]
  },
  {
   "cell_type": "code",
   "execution_count": 59,
   "id": "d2e231ea-40c9-4505-86ad-3a8fbdb5b617",
   "metadata": {},
   "outputs": [
    {
     "name": "stdout",
     "output_type": "stream",
     "text": [
      "\n",
      "a = [14 22 24 27 33 35 40 44 45 48]\n",
      "b = [ 2  3  5  6  6 10 14 23 35 41]\n",
      "Comman Values are : [14 35]\n"
     ]
    }
   ],
   "source": [
    "a = np.array(np.random.randint(1,50,10))\n",
    "a.sort()\n",
    "b = np.array(np.random.randint(1,50,10))\n",
    "b.sort()\n",
    "print()\n",
    "def Intersect(a,b):\n",
    "    print(f\"a = {a}\")\n",
    "    print(f\"b = {b}\")\n",
    "    return np.intersect1d(a,b)\n",
    "print(f\"Comman Values are : {Intersect(a,b)}\")"
   ]
  },
  {
   "cell_type": "code",
   "execution_count": 61,
   "id": "f5d062ca-0d93-456d-ad73-c85ad276c84f",
   "metadata": {},
   "outputs": [
    {
     "name": "stdout",
     "output_type": "stream",
     "text": [
      "a = [14 22 24 27 33 35 40 44 45 48]\n",
      "b = [ 2  3  5  6  6 10 14 23 35 41]\n",
      "[22 24 27 33 40 44 45 48]\n"
     ]
    }
   ],
   "source": [
    "def Differance(a,b):\n",
    "    print(f\"a = {a}\")\n",
    "    print(f\"b = {b}\")\n",
    "    return np.setdiff1d(a,b)\n",
    "print(Differance(a,b))"
   ]
  },
  {
   "cell_type": "code",
   "execution_count": 67,
   "id": "eb64c38d-36f9-4bea-8a2c-3d71cb403847",
   "metadata": {},
   "outputs": [
    {
     "name": "stdout",
     "output_type": "stream",
     "text": [
      "[[0 1 2 3 4]\n",
      " [5 6 7 8 9]]\n",
      "\n",
      "[[4 3 2 1 0]\n",
      " [9 8 7 6 5]]\n"
     ]
    }
   ],
   "source": [
    "def ReverseColums():\n",
    "    print(OneDToTwoD())\n",
    "    print()\n",
    "    return np.flip(OneDToTwoD(),axis=1)\n",
    "print(ReverseColums())"
   ]
  },
  {
   "cell_type": "code",
   "execution_count": 71,
   "id": "c915d2d2-76e1-4ccc-83cd-788a84f84735",
   "metadata": {},
   "outputs": [
    {
     "name": "stdout",
     "output_type": "stream",
     "text": [
      "[[9.1925973  9.87014295 6.80371195]\n",
      " [5.37628419 8.26357121 7.90301817]\n",
      " [9.81584211 6.02430585 6.48249506]\n",
      " [8.33058378 5.94774899 7.41670603]\n",
      " [8.79273273 8.58108789 5.62872505]]\n"
     ]
    }
   ],
   "source": [
    "def TwoDArray():\n",
    "    arr2d = np.array(np.random.uniform(5,10,15)).reshape(5,3)\n",
    "    return arr2d\n",
    "print(TwoDArray())"
   ]
  },
  {
   "cell_type": "code",
   "execution_count": 28,
   "id": "92bdb8d7-682c-4954-a6d3-4995c62640f8",
   "metadata": {},
   "outputs": [
    {
     "name": "stdout",
     "output_type": "stream",
     "text": [
      "[[0 0 0 0 0]\n",
      " [1 0 0 0 0]\n",
      " [0 2 0 0 0]\n",
      " [0 0 3 0 0]\n",
      " [0 0 0 4 0]]\n"
     ]
    }
   ],
   "source": [
    "def matrix():\n",
    "    ar = np.zeros((5,5),dtype=int)\n",
    "    main_diag_indices = np.diag_indices_from(ar)\n",
    "    row_indices = main_diag_indices[0][1:]  # 1 2 3 4   1,0=1 2,1=2 3,2= 3 \n",
    "    col_indices = main_diag_indices[1][:-1] # 0 1 2 3\n",
    "    ar[row_indices, col_indices] = [1, 2, 3, 4]\n",
    "    return ar\n",
    "print(matrix())"
   ]
  },
  {
   "cell_type": "markdown",
   "id": "adcf97d8-244a-40ba-8353-516e77df5b62",
   "metadata": {},
   "source": [
    "# Part 3"
   ]
  },
  {
   "cell_type": "code",
   "execution_count": 77,
   "id": "1f34993a-6984-48b5-b321-f9518bf795ce",
   "metadata": {},
   "outputs": [
    {
     "name": "stdout",
     "output_type": "stream",
     "text": [
      "[1 1 1 2 2 2 3 3 3 1 2 3 1 2 3]\n"
     ]
    }
   ],
   "source": [
    "def pattren():\n",
    "    a = np.array([1,2,3])\n",
    "    print(np.hstack((np.repeat(a,3),a,a)))\n",
    "pattren()"
   ]
  }
 ],
 "metadata": {
  "kernelspec": {
   "display_name": "Python 3 (ipykernel)",
   "language": "python",
   "name": "python3"
  },
  "language_info": {
   "codemirror_mode": {
    "name": "ipython",
    "version": 3
   },
   "file_extension": ".py",
   "mimetype": "text/x-python",
   "name": "python",
   "nbconvert_exporter": "python",
   "pygments_lexer": "ipython3",
   "version": "3.12.4"
  }
 },
 "nbformat": 4,
 "nbformat_minor": 5
}
