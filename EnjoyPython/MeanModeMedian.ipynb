{
 "cells": [
  {
   "cell_type": "markdown",
   "id": "b8b1814d-5496-4621-baf4-b56b027d3b2d",
   "metadata": {},
   "source": [
    "# Mean"
   ]
  },
  {
   "cell_type": "code",
   "execution_count": 8,
   "id": "def727ea-d893-42c7-9ad2-826c1d8dc35a",
   "metadata": {},
   "outputs": [
    {
     "name": "stdin",
     "output_type": "stream",
     "text": [
      "Enter Total No of Elements :  3\n",
      "Enter 1 number :  3\n",
      "Enter 2 number :  1\n",
      "Enter 3 number :  3\n"
     ]
    },
    {
     "name": "stdout",
     "output_type": "stream",
     "text": [
      "Mean of given Elements is 2.3333333333333335\n"
     ]
    }
   ],
   "source": [
    "try:\n",
    "    n = int(input(\"Enter Total No of Elements : \"))\n",
    "    if n<=0:\n",
    "        raise ValueError\n",
    "    listElement = [0]*n\n",
    "    for i in range(n):\n",
    "        listElement[i]=int(input(f\"Enter {i+1} number : \"))\n",
    "    def mean(list):\n",
    "         sum=0\n",
    "         for i in list:\n",
    "            sum+=i\n",
    "         a = len(list)\n",
    "         ans=sum/a\n",
    "         return ans\n",
    "    print(f\"Mean of given Elements is {mean(listElement)}\")\n",
    "except ValueError:\n",
    "    print(\"Enter Vaild Number\")"
   ]
  },
  {
   "cell_type": "markdown",
   "id": "c679b36f-421d-42c5-8abb-7beebfe34cc5",
   "metadata": {},
   "source": [
    "# Median"
   ]
  },
  {
   "cell_type": "code",
   "execution_count": 10,
   "id": "d540f45b-2333-4e44-9ad4-b4fedf799d9a",
   "metadata": {},
   "outputs": [
    {
     "name": "stdin",
     "output_type": "stream",
     "text": [
      "Enter Size of Element 4\n",
      "Enter 1 Value :  7\n",
      "Enter 2 Value :  2\n",
      "Enter 3 Value :  9\n",
      "Enter 4 Value :  3\n"
     ]
    },
    {
     "name": "stdout",
     "output_type": "stream",
     "text": [
      "Sorted list is :  [2, 3, 7, 9]\n",
      "Median is : 5.0\n"
     ]
    }
   ],
   "source": [
    "try:\n",
    "    n = int(input(\"Enter Size of Element\"))\n",
    "    if n<=0:\n",
    "        raise ValueError\n",
    "    else:\n",
    "        listElement = [0]*n\n",
    "        for i in range(n):\n",
    "            listElement[i]=int(input(f\"Enter {i+1} Value : \"))\n",
    "        for j in range(len(listElement)):\n",
    "           for k in range(j+1,len(listElement)):\n",
    "                if listElement[j]>=listElement[k]:\n",
    "                    listElement[j],listElement[k]=listElement[k],listElement[j]\n",
    "        def median(listElement):\n",
    "            if len(listElement)%2==0:\n",
    "                mid1 = len(listElement)//2\n",
    "                mid2 = mid1 - 1\n",
    "                ans = (listElement[mid1]+listElement[mid2])/2\n",
    "                return ans\n",
    "            else:\n",
    "                mid = len(listElement)//2\n",
    "                ans = listElement[mid]\n",
    "                return ans\n",
    "    print(\"Sorted list is : \",listElement)\n",
    "    print(f\"Median is : {median(listElement)}\")\n",
    "except ValueError:\n",
    "        print(\"Enter Vaild size of Elements\")"
   ]
  },
  {
   "cell_type": "markdown",
   "id": "f035b902-1fbc-4629-b308-b1006fa67a79",
   "metadata": {},
   "source": [
    "# Mode"
   ]
  },
  {
   "cell_type": "code",
   "execution_count": 18,
   "id": "3ab09b5d-921e-463e-92ff-b4da5b7cc4a7",
   "metadata": {},
   "outputs": [
    {
     "name": "stdin",
     "output_type": "stream",
     "text": [
      "Enter Total No of Elements :  5\n",
      "Enter 1 number :  1\n",
      "Enter 2 number :  2\n",
      "Enter 3 number :  3\n",
      "Enter 4 number :  4\n",
      "Enter 5 number :  5\n"
     ]
    },
    {
     "name": "stdout",
     "output_type": "stream",
     "text": [
      "Mode of given list is 1\n"
     ]
    }
   ],
   "source": [
    "try:\n",
    "    n = int(input(\"Enter Total No of Elements : \"))\n",
    "    if n<=0:\n",
    "        raise ValueError\n",
    "    listElement = [0]*n\n",
    "    for i in range(n):\n",
    "        listElement[i]=int(input(f\"Enter {i+1} number : \"))\n",
    "    def mode(numOfList):\n",
    "        max_count = (0,0)\n",
    "        for num in numOfList:\n",
    "            occure = numOfList.count(num)\n",
    "            if occure > max_count[0]:\n",
    "                max_count=(occure, num)\n",
    "        return max_count[1]\n",
    "    \n",
    "    print(f\"Mode of given list is {mode(listElement)}\")\n",
    "except ValueError:\n",
    "    print(\"Enter Vaild Number\")"
   ]
  }
 ],
 "metadata": {
  "kernelspec": {
   "display_name": "Python 3 (ipykernel)",
   "language": "python",
   "name": "python3"
  },
  "language_info": {
   "codemirror_mode": {
    "name": "ipython",
    "version": 3
   },
   "file_extension": ".py",
   "mimetype": "text/x-python",
   "name": "python",
   "nbconvert_exporter": "python",
   "pygments_lexer": "ipython3",
   "version": "3.12.4"
  }
 },
 "nbformat": 4,
 "nbformat_minor": 5
}
