{
 "cells": [
  {
   "cell_type": "code",
   "execution_count": 12,
   "id": "87f80719-b4c3-4513-9f96-4823f51106bd",
   "metadata": {},
   "outputs": [
    {
     "name": "stdout",
     "output_type": "stream",
     "text": [
      "[1 2 3 4 5 6 7 8]\n"
     ]
    }
   ],
   "source": [
    "import numpy as np\n",
    "x = np.array([1, 2, 3, 4])\n",
    "x1 = np.array([5, 6, 7, 8])\n",
    "x2 = np.concatenate((x,x1))\n",
    "print(x2)"
   ]
  },
  {
   "cell_type": "code",
   "execution_count": 14,
   "id": "890e6c3b-8b26-4f7f-9f5e-3b2f137c3d50",
   "metadata": {},
   "outputs": [
    {
     "name": "stdout",
     "output_type": "stream",
     "text": [
      "[[1 2]\n",
      " [3 4]\n",
      " [5 6]\n",
      " [7 8]]\n",
      "\n",
      "[[1 2 5 6]\n",
      " [3 4 7 8]]\n"
     ]
    }
   ],
   "source": [
    "import numpy as np\n",
    "x = np.array([[1, 2],[3, 4]])\n",
    "x1 = np.array([[5, 6],[7, 8]])\n",
    "x2 = np.concatenate((x,x1),axis=0)\n",
    "print(x2)\n",
    "x3 = np.concatenate((x,x1), axis=1)\n",
    "print()\n",
    "print(x3)"
   ]
  },
  {
   "cell_type": "code",
   "execution_count": 18,
   "id": "7df0653b-d48b-4d28-b5be-d553bba28077",
   "metadata": {},
   "outputs": [
    {
     "name": "stdout",
     "output_type": "stream",
     "text": [
      "[[1 2 3 4 5 6 7 8]]\n",
      "[[1 2 3 4]\n",
      " [5 6 7 8]]\n"
     ]
    }
   ],
   "source": [
    "import numpy as np\n",
    "x = np.array([[1, 2, 3, 4]])\n",
    "x1 = np.array([[5, 6, 7, 8]])\n",
    "x2 = np.concatenate((x,x1),axis = 1)\n",
    "print(x2)\n",
    "x3 = np.concatenate((x,x1),axis = 0)\n",
    "print(x3)"
   ]
  },
  {
   "cell_type": "code",
   "execution_count": 20,
   "id": "9885535b-651a-4442-a87a-86bfc6198418",
   "metadata": {},
   "outputs": [
    {
     "name": "stdout",
     "output_type": "stream",
     "text": [
      "[1 2 3 4 5 6 7 8]\n"
     ]
    }
   ],
   "source": [
    "import numpy as np\n",
    "x = np.array([1, 2, 3, 4])\n",
    "x1 = np.array([5, 6, 7, 8])\n",
    "x2 = np.hstack((x,x1))\n",
    "print(x2)"
   ]
  },
  {
   "cell_type": "code",
   "execution_count": 28,
   "id": "738fe1ac-4ca0-417f-bf2c-7e93ced302a2",
   "metadata": {},
   "outputs": [
    {
     "name": "stdout",
     "output_type": "stream",
     "text": [
      "[[1 2 3 4 5 6 7 8]]\n"
     ]
    }
   ],
   "source": [
    "import numpy as np\n",
    "x = np.array([[1, 2, 3, 4]])\n",
    "x1 = np.array([[5, 6, 7, 8]])\n",
    "x2 = np.hstack((x,x1))\n",
    "print(x2)\n"
   ]
  },
  {
   "cell_type": "code",
   "execution_count": 30,
   "id": "6f0190b4-2d2b-4394-89ae-3de2a43e6a68",
   "metadata": {},
   "outputs": [
    {
     "name": "stdout",
     "output_type": "stream",
     "text": [
      "[[1 2 3 4]\n",
      " [5 6 7 8]]\n"
     ]
    }
   ],
   "source": [
    "import numpy as np\n",
    "x = np.array([[1, 2, 3, 4]])\n",
    "x1 = np.array([[5, 6, 7, 8]])\n",
    "x2 = np.vstack((x,x1))\n",
    "print(x2)\n"
   ]
  },
  {
   "cell_type": "code",
   "execution_count": 32,
   "id": "3dc3e39b-0be3-4199-8faa-99d788e1740d",
   "metadata": {},
   "outputs": [
    {
     "name": "stdout",
     "output_type": "stream",
     "text": [
      "[[1 2 3 4]\n",
      " [5 6 7 8]]\n"
     ]
    }
   ],
   "source": [
    "import numpy as np\n",
    "x = np.array([1, 2, 3, 4])\n",
    "x1 = np.array([5, 6, 7, 8])\n",
    "x2 = np.vstack((x,x1))\n",
    "print(x2)"
   ]
  },
  {
   "cell_type": "code",
   "execution_count": 38,
   "id": "d2fd7a4c-a6f6-47e5-8ad0-62594c613caf",
   "metadata": {},
   "outputs": [
    {
     "name": "stdout",
     "output_type": "stream",
     "text": [
      "[[1 2 5 6]\n",
      " [3 4 7 8]]\n",
      "\n",
      "[[1 2]\n",
      " [3 4]\n",
      " [5 6]\n",
      " [7 8]]\n",
      "\n",
      "[[[1 5]\n",
      "  [2 6]]\n",
      "\n",
      " [[3 7]\n",
      "  [4 8]]]\n"
     ]
    }
   ],
   "source": [
    "import numpy as np\n",
    "x = np.array([[1, 2],[3, 4]])\n",
    "x1 = np.array([[5, 6],[7, 8]])\n",
    "x2 = np.hstack((x,x1))\n",
    "print(x2)\n",
    "x3 = np.vstack((x,x1))\n",
    "print()\n",
    "print(x3)\n",
    "x4 = np.dstack((x,x1))\n",
    "print()\n",
    "print(x4)"
   ]
  },
  {
   "cell_type": "code",
   "execution_count": 40,
   "id": "7081a58d-62f7-402a-bbf0-c21e10641e60",
   "metadata": {},
   "outputs": [
    {
     "name": "stdout",
     "output_type": "stream",
     "text": [
      "[[[1 5]\n",
      "  [2 6]\n",
      "  [3 7]\n",
      "  [4 8]]]\n"
     ]
    }
   ],
   "source": [
    "import numpy as np\n",
    "x = np.array([1, 2, 3, 4])\n",
    "x1 = np.array([5, 6, 7, 8])\n",
    "x2 = np.dstack((x,x1))\n",
    "print(x2)"
   ]
  },
  {
   "cell_type": "code",
   "execution_count": 52,
   "id": "924fe2bd-b018-4d92-a3c4-8c671113bbb0",
   "metadata": {},
   "outputs": [
    {
     "name": "stdout",
     "output_type": "stream",
     "text": [
      "[array([1, 2]), array([3, 4]), array([5, 6])]\n"
     ]
    }
   ],
   "source": [
    "import numpy as np\n",
    "x = np.array([1,2,3,4,5,6])\n",
    "x1 = np.array_split(x,3)\n",
    "print(x1)"
   ]
  },
  {
   "cell_type": "code",
   "execution_count": 54,
   "id": "b0f98ee2-e521-4a2b-969c-2b9a7b759648",
   "metadata": {},
   "outputs": [
    {
     "name": "stdout",
     "output_type": "stream",
     "text": [
      "[array([1, 2]), array([3, 4]), array([5]), array([6])]\n"
     ]
    }
   ],
   "source": [
    "import numpy as np\n",
    "x = np.array([1,2,3,4,5,6])\n",
    "x1 = np.array_split(x,4)\n",
    "print(x1)"
   ]
  },
  {
   "cell_type": "code",
   "execution_count": 60,
   "id": "ff11e284-599d-4cc0-80e6-af2cf67f6033",
   "metadata": {},
   "outputs": [
    {
     "name": "stdout",
     "output_type": "stream",
     "text": [
      "[array([1, 2]), array([3, 4]), array([5, 6])]\n",
      "[3 4]\n",
      "\n",
      "[1 2]\n",
      "[3 4]\n",
      "[5 6]\n"
     ]
    }
   ],
   "source": [
    "import numpy as np\n",
    "x = np.array([1,2,3,4,5,6])\n",
    "x1 = np.array_split(x,3)\n",
    "print(x1)\n",
    "print(x1[1])\n",
    "print()\n",
    "print(x1[0])\n",
    "print(x1[1])\n",
    "print(x1[2])"
   ]
  },
  {
   "cell_type": "code",
   "execution_count": 62,
   "id": "6ed2285c-78db-4cdd-ac41-7f1466db4ed3",
   "metadata": {},
   "outputs": [
    {
     "name": "stdout",
     "output_type": "stream",
     "text": [
      "[array([[1, 2],\n",
      "       [3, 4]]), array([[5, 6],\n",
      "       [7, 8]]), array([[ 9, 10],\n",
      "       [11, 12]])]\n"
     ]
    }
   ],
   "source": [
    "import numpy as np\n",
    "x = np.array([[1,2],[3,4],[5,6],[7,8],[9,10],[11,12]])\n",
    "x1 = np.array_split(x,3)\n",
    "print(x1)"
   ]
  },
  {
   "cell_type": "code",
   "execution_count": 70,
   "id": "6d94eee2-ab3f-4e3c-a786-8587a6f95c10",
   "metadata": {},
   "outputs": [
    {
     "name": "stdout",
     "output_type": "stream",
     "text": [
      "[array([[[1, 2],\n",
      "        [3, 4],\n",
      "        [5, 6]]]), array([[[ 7,  8],\n",
      "        [ 9, 10],\n",
      "        [11, 12]]])]\n",
      "\n",
      "[array([[[1, 2],\n",
      "        [3, 4],\n",
      "        [5, 6]]]), array([[[ 7,  8],\n",
      "        [ 9, 10],\n",
      "        [11, 12]]]), array([], shape=(0, 3, 2), dtype=int32)]\n"
     ]
    }
   ],
   "source": [
    "import numpy as np\n",
    "x = np.array([[[1,2],[3,4],[5,6]],[[7,8],[9,10],[11,12]]])\n",
    "x1 = np.array_split(x,2)\n",
    "print(x1)\n",
    "print()\n",
    "x2 = np.array_split(x,3)\n",
    "print(x2)"
   ]
  }
 ],
 "metadata": {
  "kernelspec": {
   "display_name": "Python 3 (ipykernel)",
   "language": "python",
   "name": "python3"
  },
  "language_info": {
   "codemirror_mode": {
    "name": "ipython",
    "version": 3
   },
   "file_extension": ".py",
   "mimetype": "text/x-python",
   "name": "python",
   "nbconvert_exporter": "python",
   "pygments_lexer": "ipython3",
   "version": "3.12.4"
  }
 },
 "nbformat": 4,
 "nbformat_minor": 5
}
